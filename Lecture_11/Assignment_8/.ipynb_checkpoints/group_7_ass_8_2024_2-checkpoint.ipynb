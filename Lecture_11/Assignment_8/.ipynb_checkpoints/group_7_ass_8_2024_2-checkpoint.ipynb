{
 "cells": [
  {
   "cell_type": "markdown",
   "id": "443e80e1-3d4e-4871-ba16-addeb5d61fa2",
   "metadata": {},
   "source": [
    "# Assignment 8 - [#1079](https://github.com/alexanderquispe/Diplomado_PUCP/issues/1079)\n",
    "**Deadline: September 14th - 23:59**\n",
    "\n",
    "Fernando Mendoza | Andrea Pezo | Michel Cotrina | Estefanny Gil | Armando Ore"
   ]
  },
  {
   "cell_type": "markdown",
   "id": "3860fb29-2b43-484d-ad28-3db95266c619",
   "metadata": {},
   "source": [
    "## Instructions"
   ]
  },
  {
   "cell_type": "markdown",
   "id": "8709d3bb-1beb-4417-9191-ed0c1a1da06d",
   "metadata": {},
   "source": [
    "1. Get the 15 variables from this raster for all Peru departments polygons. This is the [link](https://github.com/alexanderquispe/Diplomado_PUCP/tree/main/_data/INEI_LIMITE_DEPARTAMENTAL) where shapefiles are located. This is the [link](https://ghsl.jrc.ec.europa.eu/download.php?ds=builtC) of the source raster. The values should be the percentage of district area cover by this specific Morphological Settlement Zone.\n",
    "2. Then you are going to generate choropleth map using folium for these 15 variables.\n",
    "3. Save your html in the same folder of your JN. Name your HTML as your branch. This HTML should have all these layers. Please do not forget to use Layer Control.\n",
    "\n",
    "**Do not upload any other file. Be cautious of uploading files greater than 100MB.**"
   ]
  },
  {
   "cell_type": "code",
   "execution_count": 23,
   "id": "c6e42866-a55a-446d-929b-fb925895265d",
   "metadata": {},
   "outputs": [
    {
     "data": {
      "text/plain": [
       "'C:\\\\Users\\\\LENOVO\\\\Desktop\\\\Github\\\\Diplomado_PUCP\\\\Lecture_11\\\\Assignment_8'"
      ]
     },
     "execution_count": 23,
     "metadata": {},
     "output_type": "execute_result"
    }
   ],
   "source": [
    "pwd"
   ]
  },
  {
   "cell_type": "markdown",
   "id": "f0c0dc40-a18e-4fcf-9bc0-64455a270d1c",
   "metadata": {},
   "source": [
    "## Step 0: Library"
   ]
  },
  {
   "cell_type": "code",
   "execution_count": null,
   "id": "e26d0dfe-0d4f-490d-88a9-a9d15fa62298",
   "metadata": {},
   "outputs": [],
   "source": []
  },
  {
   "cell_type": "markdown",
   "id": "e33e91a1-6eff-48f6-8663-8860186edae2",
   "metadata": {},
   "source": [
    "## Step 1: "
   ]
  }
 ],
 "metadata": {
  "kernelspec": {
   "display_name": "Python 3 (ipykernel)",
   "language": "python",
   "name": "python3"
  },
  "language_info": {
   "codemirror_mode": {
    "name": "ipython",
    "version": 3
   },
   "file_extension": ".py",
   "mimetype": "text/x-python",
   "name": "python",
   "nbconvert_exporter": "python",
   "pygments_lexer": "ipython3",
   "version": "3.11.5"
  }
 },
 "nbformat": 4,
 "nbformat_minor": 5
}
