{
  "nbformat": 4,
  "nbformat_minor": 0,
  "metadata": {
    "colab": {
      "provenance": []
    },
    "kernelspec": {
      "name": "python3",
      "display_name": "Python 3"
    },
    "language_info": {
      "name": "python"
    }
  },
  "cells": [
    {
      "cell_type": "markdown",
      "source": [
        "Group #3"
      ],
      "metadata": {
        "id": "YMPTWEHXCzLZ"
      }
    },
    {
      "cell_type": "markdown",
      "source": [
        "1. Get the 15 variables from this raster for all Peru departments polygons. This is the link where shapefiles are located. This is the link of the source raster. The values should be the percentage of district area cover by this specific Morphological Settlement Zone."
      ],
      "metadata": {
        "id": "m2AAF09-C_-H"
      }
    },
    {
      "cell_type": "code",
      "source": [
        "!pip install rasterio"
      ],
      "metadata": {
        "colab": {
          "base_uri": "https://localhost:8080/"
        },
        "id": "JVJDXI8UDdne",
        "outputId": "3c785647-3fc5-4936-c3d5-8a64c0fe1fe8"
      },
      "execution_count": 1,
      "outputs": [
        {
          "output_type": "stream",
          "name": "stdout",
          "text": [
            "Collecting rasterio\n",
            "  Downloading rasterio-1.3.9-cp310-cp310-manylinux2014_x86_64.whl (20.6 MB)\n",
            "\u001b[2K     \u001b[90m━━━━━━━━━━━━━━━━━━━━━━━━━━━━━━━━━━━━━━━━\u001b[0m \u001b[32m20.6/20.6 MB\u001b[0m \u001b[31m55.7 MB/s\u001b[0m eta \u001b[36m0:00:00\u001b[0m\n",
            "\u001b[?25hCollecting affine (from rasterio)\n",
            "  Downloading affine-2.4.0-py3-none-any.whl (15 kB)\n",
            "Requirement already satisfied: attrs in /usr/local/lib/python3.10/dist-packages (from rasterio) (23.2.0)\n",
            "Requirement already satisfied: certifi in /usr/local/lib/python3.10/dist-packages (from rasterio) (2024.2.2)\n",
            "Requirement already satisfied: click>=4.0 in /usr/local/lib/python3.10/dist-packages (from rasterio) (8.1.7)\n",
            "Requirement already satisfied: cligj>=0.5 in /usr/local/lib/python3.10/dist-packages (from rasterio) (0.7.2)\n",
            "Requirement already satisfied: numpy in /usr/local/lib/python3.10/dist-packages (from rasterio) (1.25.2)\n",
            "Collecting snuggs>=1.4.1 (from rasterio)\n",
            "  Downloading snuggs-1.4.7-py3-none-any.whl (5.4 kB)\n",
            "Requirement already satisfied: click-plugins in /usr/local/lib/python3.10/dist-packages (from rasterio) (1.1.1)\n",
            "Requirement already satisfied: setuptools in /usr/local/lib/python3.10/dist-packages (from rasterio) (67.7.2)\n",
            "Requirement already satisfied: pyparsing>=2.1.6 in /usr/local/lib/python3.10/dist-packages (from snuggs>=1.4.1->rasterio) (3.1.1)\n",
            "Installing collected packages: snuggs, affine, rasterio\n",
            "Successfully installed affine-2.4.0 rasterio-1.3.9 snuggs-1.4.7\n"
          ]
        }
      ]
    },
    {
      "cell_type": "code",
      "source": [
        "%pip install geopandas matplotlib shapely rasterio numpy pandas sklearn-xarray -q"
      ],
      "metadata": {
        "id": "biRl-9eYDiSM",
        "colab": {
          "base_uri": "https://localhost:8080/"
        },
        "outputId": "4f378a00-69a0-4ad6-e3b0-116669899fbd"
      },
      "execution_count": 2,
      "outputs": [
        {
          "output_type": "stream",
          "name": "stdout",
          "text": [
            "  Installing build dependencies ... \u001b[?25l\u001b[?25hdone\n",
            "  Getting requirements to build wheel ... \u001b[?25l\u001b[?25hdone\n",
            "  Preparing metadata (pyproject.toml) ... \u001b[?25l\u001b[?25hdone\n",
            "  Building wheel for sklearn-xarray (pyproject.toml) ... \u001b[?25l\u001b[?25hdone\n"
          ]
        }
      ]
    },
    {
      "cell_type": "code",
      "source": [
        "!pip install ipywidgets"
      ],
      "metadata": {
        "colab": {
          "base_uri": "https://localhost:8080/"
        },
        "id": "k2jpDDjQDkNG",
        "outputId": "6c814261-840c-4fd7-bb49-2c9a439e1ec8"
      },
      "execution_count": 3,
      "outputs": [
        {
          "output_type": "stream",
          "name": "stdout",
          "text": [
            "Requirement already satisfied: ipywidgets in /usr/local/lib/python3.10/dist-packages (7.7.1)\n",
            "Requirement already satisfied: ipykernel>=4.5.1 in /usr/local/lib/python3.10/dist-packages (from ipywidgets) (5.5.6)\n",
            "Requirement already satisfied: ipython-genutils~=0.2.0 in /usr/local/lib/python3.10/dist-packages (from ipywidgets) (0.2.0)\n",
            "Requirement already satisfied: traitlets>=4.3.1 in /usr/local/lib/python3.10/dist-packages (from ipywidgets) (5.7.1)\n",
            "Requirement already satisfied: widgetsnbextension~=3.6.0 in /usr/local/lib/python3.10/dist-packages (from ipywidgets) (3.6.6)\n",
            "Requirement already satisfied: ipython>=4.0.0 in /usr/local/lib/python3.10/dist-packages (from ipywidgets) (7.34.0)\n",
            "Requirement already satisfied: jupyterlab-widgets>=1.0.0 in /usr/local/lib/python3.10/dist-packages (from ipywidgets) (3.0.10)\n",
            "Requirement already satisfied: jupyter-client in /usr/local/lib/python3.10/dist-packages (from ipykernel>=4.5.1->ipywidgets) (6.1.12)\n",
            "Requirement already satisfied: tornado>=4.2 in /usr/local/lib/python3.10/dist-packages (from ipykernel>=4.5.1->ipywidgets) (6.3.2)\n",
            "Requirement already satisfied: setuptools>=18.5 in /usr/local/lib/python3.10/dist-packages (from ipython>=4.0.0->ipywidgets) (67.7.2)\n",
            "Collecting jedi>=0.16 (from ipython>=4.0.0->ipywidgets)\n",
            "  Downloading jedi-0.19.1-py2.py3-none-any.whl (1.6 MB)\n",
            "\u001b[2K     \u001b[90m━━━━━━━━━━━━━━━━━━━━━━━━━━━━━━━━━━━━━━━━\u001b[0m \u001b[32m1.6/1.6 MB\u001b[0m \u001b[31m16.7 MB/s\u001b[0m eta \u001b[36m0:00:00\u001b[0m\n",
            "\u001b[?25hRequirement already satisfied: decorator in /usr/local/lib/python3.10/dist-packages (from ipython>=4.0.0->ipywidgets) (4.4.2)\n",
            "Requirement already satisfied: pickleshare in /usr/local/lib/python3.10/dist-packages (from ipython>=4.0.0->ipywidgets) (0.7.5)\n",
            "Requirement already satisfied: prompt-toolkit!=3.0.0,!=3.0.1,<3.1.0,>=2.0.0 in /usr/local/lib/python3.10/dist-packages (from ipython>=4.0.0->ipywidgets) (3.0.43)\n",
            "Requirement already satisfied: pygments in /usr/local/lib/python3.10/dist-packages (from ipython>=4.0.0->ipywidgets) (2.16.1)\n",
            "Requirement already satisfied: backcall in /usr/local/lib/python3.10/dist-packages (from ipython>=4.0.0->ipywidgets) (0.2.0)\n",
            "Requirement already satisfied: matplotlib-inline in /usr/local/lib/python3.10/dist-packages (from ipython>=4.0.0->ipywidgets) (0.1.6)\n",
            "Requirement already satisfied: pexpect>4.3 in /usr/local/lib/python3.10/dist-packages (from ipython>=4.0.0->ipywidgets) (4.9.0)\n",
            "Requirement already satisfied: notebook>=4.4.1 in /usr/local/lib/python3.10/dist-packages (from widgetsnbextension~=3.6.0->ipywidgets) (6.5.5)\n",
            "Requirement already satisfied: parso<0.9.0,>=0.8.3 in /usr/local/lib/python3.10/dist-packages (from jedi>=0.16->ipython>=4.0.0->ipywidgets) (0.8.3)\n",
            "Requirement already satisfied: jinja2 in /usr/local/lib/python3.10/dist-packages (from notebook>=4.4.1->widgetsnbextension~=3.6.0->ipywidgets) (3.1.3)\n",
            "Requirement already satisfied: pyzmq<25,>=17 in /usr/local/lib/python3.10/dist-packages (from notebook>=4.4.1->widgetsnbextension~=3.6.0->ipywidgets) (23.2.1)\n",
            "Requirement already satisfied: argon2-cffi in /usr/local/lib/python3.10/dist-packages (from notebook>=4.4.1->widgetsnbextension~=3.6.0->ipywidgets) (23.1.0)\n",
            "Requirement already satisfied: jupyter-core>=4.6.1 in /usr/local/lib/python3.10/dist-packages (from notebook>=4.4.1->widgetsnbextension~=3.6.0->ipywidgets) (5.7.1)\n",
            "Requirement already satisfied: nbformat in /usr/local/lib/python3.10/dist-packages (from notebook>=4.4.1->widgetsnbextension~=3.6.0->ipywidgets) (5.9.2)\n",
            "Requirement already satisfied: nbconvert>=5 in /usr/local/lib/python3.10/dist-packages (from notebook>=4.4.1->widgetsnbextension~=3.6.0->ipywidgets) (6.5.4)\n",
            "Requirement already satisfied: nest-asyncio>=1.5 in /usr/local/lib/python3.10/dist-packages (from notebook>=4.4.1->widgetsnbextension~=3.6.0->ipywidgets) (1.6.0)\n",
            "Requirement already satisfied: Send2Trash>=1.8.0 in /usr/local/lib/python3.10/dist-packages (from notebook>=4.4.1->widgetsnbextension~=3.6.0->ipywidgets) (1.8.2)\n",
            "Requirement already satisfied: terminado>=0.8.3 in /usr/local/lib/python3.10/dist-packages (from notebook>=4.4.1->widgetsnbextension~=3.6.0->ipywidgets) (0.18.0)\n",
            "Requirement already satisfied: prometheus-client in /usr/local/lib/python3.10/dist-packages (from notebook>=4.4.1->widgetsnbextension~=3.6.0->ipywidgets) (0.20.0)\n",
            "Requirement already satisfied: nbclassic>=0.4.7 in /usr/local/lib/python3.10/dist-packages (from notebook>=4.4.1->widgetsnbextension~=3.6.0->ipywidgets) (1.0.0)\n",
            "Requirement already satisfied: python-dateutil>=2.1 in /usr/local/lib/python3.10/dist-packages (from jupyter-client->ipykernel>=4.5.1->ipywidgets) (2.8.2)\n",
            "Requirement already satisfied: ptyprocess>=0.5 in /usr/local/lib/python3.10/dist-packages (from pexpect>4.3->ipython>=4.0.0->ipywidgets) (0.7.0)\n",
            "Requirement already satisfied: wcwidth in /usr/local/lib/python3.10/dist-packages (from prompt-toolkit!=3.0.0,!=3.0.1,<3.1.0,>=2.0.0->ipython>=4.0.0->ipywidgets) (0.2.13)\n",
            "Requirement already satisfied: platformdirs>=2.5 in /usr/local/lib/python3.10/dist-packages (from jupyter-core>=4.6.1->notebook>=4.4.1->widgetsnbextension~=3.6.0->ipywidgets) (4.2.0)\n",
            "Requirement already satisfied: jupyter-server>=1.8 in /usr/local/lib/python3.10/dist-packages (from nbclassic>=0.4.7->notebook>=4.4.1->widgetsnbextension~=3.6.0->ipywidgets) (1.24.0)\n",
            "Requirement already satisfied: notebook-shim>=0.2.3 in /usr/local/lib/python3.10/dist-packages (from nbclassic>=0.4.7->notebook>=4.4.1->widgetsnbextension~=3.6.0->ipywidgets) (0.2.4)\n",
            "Requirement already satisfied: lxml in /usr/local/lib/python3.10/dist-packages (from nbconvert>=5->notebook>=4.4.1->widgetsnbextension~=3.6.0->ipywidgets) (4.9.4)\n",
            "Requirement already satisfied: beautifulsoup4 in /usr/local/lib/python3.10/dist-packages (from nbconvert>=5->notebook>=4.4.1->widgetsnbextension~=3.6.0->ipywidgets) (4.12.3)\n",
            "Requirement already satisfied: bleach in /usr/local/lib/python3.10/dist-packages (from nbconvert>=5->notebook>=4.4.1->widgetsnbextension~=3.6.0->ipywidgets) (6.1.0)\n",
            "Requirement already satisfied: defusedxml in /usr/local/lib/python3.10/dist-packages (from nbconvert>=5->notebook>=4.4.1->widgetsnbextension~=3.6.0->ipywidgets) (0.7.1)\n",
            "Requirement already satisfied: entrypoints>=0.2.2 in /usr/local/lib/python3.10/dist-packages (from nbconvert>=5->notebook>=4.4.1->widgetsnbextension~=3.6.0->ipywidgets) (0.4)\n",
            "Requirement already satisfied: jupyterlab-pygments in /usr/local/lib/python3.10/dist-packages (from nbconvert>=5->notebook>=4.4.1->widgetsnbextension~=3.6.0->ipywidgets) (0.3.0)\n",
            "Requirement already satisfied: MarkupSafe>=2.0 in /usr/local/lib/python3.10/dist-packages (from nbconvert>=5->notebook>=4.4.1->widgetsnbextension~=3.6.0->ipywidgets) (2.1.5)\n",
            "Requirement already satisfied: mistune<2,>=0.8.1 in /usr/local/lib/python3.10/dist-packages (from nbconvert>=5->notebook>=4.4.1->widgetsnbextension~=3.6.0->ipywidgets) (0.8.4)\n",
            "Requirement already satisfied: nbclient>=0.5.0 in /usr/local/lib/python3.10/dist-packages (from nbconvert>=5->notebook>=4.4.1->widgetsnbextension~=3.6.0->ipywidgets) (0.9.0)\n",
            "Requirement already satisfied: packaging in /usr/local/lib/python3.10/dist-packages (from nbconvert>=5->notebook>=4.4.1->widgetsnbextension~=3.6.0->ipywidgets) (23.2)\n",
            "Requirement already satisfied: pandocfilters>=1.4.1 in /usr/local/lib/python3.10/dist-packages (from nbconvert>=5->notebook>=4.4.1->widgetsnbextension~=3.6.0->ipywidgets) (1.5.1)\n",
            "Requirement already satisfied: tinycss2 in /usr/local/lib/python3.10/dist-packages (from nbconvert>=5->notebook>=4.4.1->widgetsnbextension~=3.6.0->ipywidgets) (1.2.1)\n",
            "Requirement already satisfied: fastjsonschema in /usr/local/lib/python3.10/dist-packages (from nbformat->notebook>=4.4.1->widgetsnbextension~=3.6.0->ipywidgets) (2.19.1)\n",
            "Requirement already satisfied: jsonschema>=2.6 in /usr/local/lib/python3.10/dist-packages (from nbformat->notebook>=4.4.1->widgetsnbextension~=3.6.0->ipywidgets) (4.19.2)\n",
            "Requirement already satisfied: six>=1.5 in /usr/local/lib/python3.10/dist-packages (from python-dateutil>=2.1->jupyter-client->ipykernel>=4.5.1->ipywidgets) (1.16.0)\n",
            "Requirement already satisfied: argon2-cffi-bindings in /usr/local/lib/python3.10/dist-packages (from argon2-cffi->notebook>=4.4.1->widgetsnbextension~=3.6.0->ipywidgets) (21.2.0)\n",
            "Requirement already satisfied: attrs>=22.2.0 in /usr/local/lib/python3.10/dist-packages (from jsonschema>=2.6->nbformat->notebook>=4.4.1->widgetsnbextension~=3.6.0->ipywidgets) (23.2.0)\n",
            "Requirement already satisfied: jsonschema-specifications>=2023.03.6 in /usr/local/lib/python3.10/dist-packages (from jsonschema>=2.6->nbformat->notebook>=4.4.1->widgetsnbextension~=3.6.0->ipywidgets) (2023.12.1)\n",
            "Requirement already satisfied: referencing>=0.28.4 in /usr/local/lib/python3.10/dist-packages (from jsonschema>=2.6->nbformat->notebook>=4.4.1->widgetsnbextension~=3.6.0->ipywidgets) (0.33.0)\n",
            "Requirement already satisfied: rpds-py>=0.7.1 in /usr/local/lib/python3.10/dist-packages (from jsonschema>=2.6->nbformat->notebook>=4.4.1->widgetsnbextension~=3.6.0->ipywidgets) (0.18.0)\n",
            "Requirement already satisfied: anyio<4,>=3.1.0 in /usr/local/lib/python3.10/dist-packages (from jupyter-server>=1.8->nbclassic>=0.4.7->notebook>=4.4.1->widgetsnbextension~=3.6.0->ipywidgets) (3.7.1)\n",
            "Requirement already satisfied: websocket-client in /usr/local/lib/python3.10/dist-packages (from jupyter-server>=1.8->nbclassic>=0.4.7->notebook>=4.4.1->widgetsnbextension~=3.6.0->ipywidgets) (1.7.0)\n",
            "Requirement already satisfied: cffi>=1.0.1 in /usr/local/lib/python3.10/dist-packages (from argon2-cffi-bindings->argon2-cffi->notebook>=4.4.1->widgetsnbextension~=3.6.0->ipywidgets) (1.16.0)\n",
            "Requirement already satisfied: soupsieve>1.2 in /usr/local/lib/python3.10/dist-packages (from beautifulsoup4->nbconvert>=5->notebook>=4.4.1->widgetsnbextension~=3.6.0->ipywidgets) (2.5)\n",
            "Requirement already satisfied: webencodings in /usr/local/lib/python3.10/dist-packages (from bleach->nbconvert>=5->notebook>=4.4.1->widgetsnbextension~=3.6.0->ipywidgets) (0.5.1)\n",
            "Requirement already satisfied: idna>=2.8 in /usr/local/lib/python3.10/dist-packages (from anyio<4,>=3.1.0->jupyter-server>=1.8->nbclassic>=0.4.7->notebook>=4.4.1->widgetsnbextension~=3.6.0->ipywidgets) (3.6)\n",
            "Requirement already satisfied: sniffio>=1.1 in /usr/local/lib/python3.10/dist-packages (from anyio<4,>=3.1.0->jupyter-server>=1.8->nbclassic>=0.4.7->notebook>=4.4.1->widgetsnbextension~=3.6.0->ipywidgets) (1.3.1)\n",
            "Requirement already satisfied: exceptiongroup in /usr/local/lib/python3.10/dist-packages (from anyio<4,>=3.1.0->jupyter-server>=1.8->nbclassic>=0.4.7->notebook>=4.4.1->widgetsnbextension~=3.6.0->ipywidgets) (1.2.0)\n",
            "Requirement already satisfied: pycparser in /usr/local/lib/python3.10/dist-packages (from cffi>=1.0.1->argon2-cffi-bindings->argon2-cffi->notebook>=4.4.1->widgetsnbextension~=3.6.0->ipywidgets) (2.21)\n",
            "Installing collected packages: jedi\n",
            "Successfully installed jedi-0.19.1\n"
          ]
        }
      ]
    },
    {
      "cell_type": "code",
      "source": [
        "!jupyter labextension install @jupyter-widgets/jupyterlab-manager"
      ],
      "metadata": {
        "colab": {
          "base_uri": "https://localhost:8080/"
        },
        "id": "lRsh5bVuDmH_",
        "outputId": "0df6682c-145a-4395-f908-040aa77aaf41"
      },
      "execution_count": 4,
      "outputs": [
        {
          "output_type": "stream",
          "name": "stdout",
          "text": [
            "usage: jupyter [-h] [--version] [--config-dir] [--data-dir] [--runtime-dir] [--paths] [--json]\n",
            "               [--debug]\n",
            "               [subcommand]\n",
            "\n",
            "Jupyter: Interactive Computing\n",
            "\n",
            "positional arguments:\n",
            "  subcommand     the subcommand to launch\n",
            "\n",
            "options:\n",
            "  -h, --help     show this help message and exit\n",
            "  --version      show the versions of core jupyter packages and exit\n",
            "  --config-dir   show Jupyter config dir\n",
            "  --data-dir     show Jupyter data dir\n",
            "  --runtime-dir  show Jupyter runtime dir\n",
            "  --paths        show all Jupyter paths. Add --json for machine-readable format.\n",
            "  --json         output paths as machine-readable json\n",
            "  --debug        output debug information about paths\n",
            "\n",
            "Available subcommands: bundlerextension console dejavu execute kernel kernelspec migrate nbclassic\n",
            "nbconvert nbextension notebook run server serverextension troubleshoot trust\n",
            "\n",
            "Jupyter command `jupyter-labextension` not found.\n"
          ]
        }
      ]
    },
    {
      "cell_type": "code",
      "source": [
        "!pip install rasterstats"
      ],
      "metadata": {
        "colab": {
          "base_uri": "https://localhost:8080/"
        },
        "id": "OzswUKUuDnop",
        "outputId": "683edf03-3aeb-41d2-c2ae-d7d218f2e891"
      },
      "execution_count": 5,
      "outputs": [
        {
          "output_type": "stream",
          "name": "stdout",
          "text": [
            "Collecting rasterstats\n",
            "  Downloading rasterstats-0.19.0-py3-none-any.whl (16 kB)\n",
            "Requirement already satisfied: affine in /usr/local/lib/python3.10/dist-packages (from rasterstats) (2.4.0)\n",
            "Requirement already satisfied: click>7.1 in /usr/local/lib/python3.10/dist-packages (from rasterstats) (8.1.7)\n",
            "Requirement already satisfied: cligj>=0.4 in /usr/local/lib/python3.10/dist-packages (from rasterstats) (0.7.2)\n",
            "Requirement already satisfied: fiona in /usr/local/lib/python3.10/dist-packages (from rasterstats) (1.9.5)\n",
            "Requirement already satisfied: numpy>=1.9 in /usr/local/lib/python3.10/dist-packages (from rasterstats) (1.25.2)\n",
            "Requirement already satisfied: rasterio>=1.0 in /usr/local/lib/python3.10/dist-packages (from rasterstats) (1.3.9)\n",
            "Collecting simplejson (from rasterstats)\n",
            "  Downloading simplejson-3.19.2-cp310-cp310-manylinux_2_5_x86_64.manylinux1_x86_64.manylinux_2_17_x86_64.manylinux2014_x86_64.whl (137 kB)\n",
            "\u001b[2K     \u001b[90m━━━━━━━━━━━━━━━━━━━━━━━━━━━━━━━━━━━━━━━━\u001b[0m \u001b[32m137.9/137.9 kB\u001b[0m \u001b[31m3.2 MB/s\u001b[0m eta \u001b[36m0:00:00\u001b[0m\n",
            "\u001b[?25hRequirement already satisfied: shapely in /usr/local/lib/python3.10/dist-packages (from rasterstats) (2.0.3)\n",
            "Requirement already satisfied: attrs in /usr/local/lib/python3.10/dist-packages (from rasterio>=1.0->rasterstats) (23.2.0)\n",
            "Requirement already satisfied: certifi in /usr/local/lib/python3.10/dist-packages (from rasterio>=1.0->rasterstats) (2024.2.2)\n",
            "Requirement already satisfied: snuggs>=1.4.1 in /usr/local/lib/python3.10/dist-packages (from rasterio>=1.0->rasterstats) (1.4.7)\n",
            "Requirement already satisfied: click-plugins in /usr/local/lib/python3.10/dist-packages (from rasterio>=1.0->rasterstats) (1.1.1)\n",
            "Requirement already satisfied: setuptools in /usr/local/lib/python3.10/dist-packages (from rasterio>=1.0->rasterstats) (67.7.2)\n",
            "Requirement already satisfied: six in /usr/local/lib/python3.10/dist-packages (from fiona->rasterstats) (1.16.0)\n",
            "Requirement already satisfied: pyparsing>=2.1.6 in /usr/local/lib/python3.10/dist-packages (from snuggs>=1.4.1->rasterio>=1.0->rasterstats) (3.1.1)\n",
            "Installing collected packages: simplejson, rasterstats\n",
            "Successfully installed rasterstats-0.19.0 simplejson-3.19.2\n"
          ]
        }
      ]
    },
    {
      "cell_type": "code",
      "source": [
        "%pip install geopandas matplotlib shapely rasterio numpy pandas sklearn-xarray -q"
      ],
      "metadata": {
        "id": "89AKv-GRDpbz"
      },
      "execution_count": 6,
      "outputs": []
    },
    {
      "cell_type": "code",
      "source": [
        "%pip install git+https://github.com/jgrss/geowombat  -q"
      ],
      "metadata": {
        "colab": {
          "base_uri": "https://localhost:8080/"
        },
        "id": "s85zu7XZDrBl",
        "outputId": "940af099-0693-4a1b-80db-bac2b4c3d95a"
      },
      "execution_count": 7,
      "outputs": [
        {
          "output_type": "stream",
          "name": "stdout",
          "text": [
            "  Installing build dependencies ... \u001b[?25l\u001b[?25hdone\n",
            "  Getting requirements to build wheel ... \u001b[?25l\u001b[?25hdone\n",
            "  Preparing metadata (pyproject.toml) ... \u001b[?25l\u001b[?25hdone\n",
            "\u001b[2K     \u001b[90m━━━━━━━━━━━━━━━━━━━━━━━━━━━━━━━━━━━━━━━━\u001b[0m \u001b[32m7.7/7.7 MB\u001b[0m \u001b[31m39.1 MB/s\u001b[0m eta \u001b[36m0:00:00\u001b[0m\n",
            "\u001b[2K     \u001b[90m━━━━━━━━━━━━━━━━━━━━━━━━━━━━━━━━━━━━━━━━\u001b[0m \u001b[32m98.7/98.7 kB\u001b[0m \u001b[31m11.5 MB/s\u001b[0m eta \u001b[36m0:00:00\u001b[0m\n",
            "\u001b[?25h  Building wheel for geowombat (pyproject.toml) ... \u001b[?25l\u001b[?25hdone\n"
          ]
        }
      ]
    },
    {
      "cell_type": "code",
      "source": [
        "import geopandas as gpd\n",
        "from rasterstats import zonal_stats\n",
        "import pandas as pd\n",
        "import geowombat as gw\n",
        "\n",
        "import geopandas as gpd\n",
        "\n",
        "from rasterio.merge import merge\n",
        "from rasterio.plot import show\n",
        "from shapely.geometry import mapping\n",
        "import rasterio\n",
        "\n",
        "from pathlib import Path\n",
        "import matplotlib.pyplot as plt\n",
        "import matplotlib.patheffects as pe\n",
        "\n",
        "import os\n",
        "from rasterio.mask import mask"
      ],
      "metadata": {
        "id": "bQbq_ns2E-aR"
      },
      "execution_count": 9,
      "outputs": []
    },
    {
      "cell_type": "code",
      "source": [
        "#Utilizando google drive\n",
        "from google.colab import drive\n",
        "drive.mount('/content/drive', force_remount=True)"
      ],
      "metadata": {
        "colab": {
          "base_uri": "https://localhost:8080/"
        },
        "id": "mMCJZVETFVUX",
        "outputId": "9dc877e2-e9de-487f-94b6-835c8b92e4e1"
      },
      "execution_count": 10,
      "outputs": [
        {
          "output_type": "stream",
          "name": "stdout",
          "text": [
            "Mounted at /content/drive\n"
          ]
        }
      ]
    },
    {
      "cell_type": "code",
      "source": [
        "import geopandas as gpd"
      ],
      "metadata": {
        "id": "-kCtGy-vNf7j"
      },
      "execution_count": null,
      "outputs": []
    },
    {
      "cell_type": "code",
      "source": [
        "# Establecemos la ruta\n",
        "shapefile_path = '/content/drive/MyDrive/group3_ass10_10/INEI_LIMITE_DEPARTAMENTAL/INEI_LIMITE_DEPARTAMENTAL.shp'\n",
        "\n",
        "# Leemos el shapefile\n",
        "departments = gpd.read_file('/content/drive/MyDrive/group3_ass10_10/INEI_LIMITE_DEPARTAMENTAL/INEI_LIMITE_DEPARTAMENTAL.shp')\n",
        "\n",
        "# Establemos la proyección esapcial\n",
        "# Rasters en 'esri:54009' (ponemos un supuesto)\n",
        "departments = departments.to_crs('esri:54009')\n",
        "\n",
        "print(departments.head())"
      ],
      "metadata": {
        "colab": {
          "base_uri": "https://localhost:8080/"
        },
        "id": "nFwLmXqHFaZo",
        "outputId": "2fe50f1d-e0e8-4400-b867-dcc38517b288"
      },
      "execution_count": 11,
      "outputs": [
        {
          "output_type": "stream",
          "name": "stdout",
          "text": [
            "  CCDD    NOMBDEP CCPP    NOMBPROV CCDI      NOMBDIST          CAPITAL  \\\n",
            "0   06  CAJAMARCA   05   CONTUMAZA   04      GUZMANGO         GUZMANGO   \n",
            "1   06  CAJAMARCA   11  SAN MIGUEL   05      EL PRADO         EL PRADO   \n",
            "2   06  CAJAMARCA   11  SAN MIGUEL   09        NIEPOS           NIEPOS   \n",
            "3   06  CAJAMARCA   11  SAN MIGUEL   10  SAN GREGORIO     SAN GREGORIO   \n",
            "4   06  CAJAMARCA   12   SAN PABLO   03      SAN LUIS  SAN LUIS GRANDE   \n",
            "\n",
            "   UBIGEO IDPROV  CODIGO  CNT_CCPP    DESCRIPCIO           DESCARGAR  \\\n",
            "0  060504   0605  060504        50      GUZMANGO  www.geogpsperu.com   \n",
            "1  061105   0611  061105        15      EL PRADO  www.geogpsperu.com   \n",
            "2  061109   0611  061109        41        NIEPOS  www.geogpsperu.com   \n",
            "3  061110   0611  061110        48  SAN GREGORIO  www.geogpsperu.com   \n",
            "4  061203   0612  061203         9      SAN LUIS  www.geogpsperu.com   \n",
            "\n",
            "    WHATSAPP                  CONTACTO  \\\n",
            "0  931381206  juan.suyo@geogpsperu.com   \n",
            "1  931381206  juan.suyo@geogpsperu.com   \n",
            "2  931381206  juan.suyo@geogpsperu.com   \n",
            "3  931381206  juan.suyo@geogpsperu.com   \n",
            "4  931381206  juan.suyo@geogpsperu.com   \n",
            "\n",
            "                                            geometry  \n",
            "0  POLYGON ((-7869313.928 -904241.774, -7869091.5...  \n",
            "1  POLYGON ((-7883126.402 -860922.524, -7883026.2...  \n",
            "2  POLYGON ((-7904306.283 -846404.901, -7904191.3...  \n",
            "3  POLYGON ((-7889290.055 -865359.352, -7889093.6...  \n",
            "4  POLYGON ((-7867764.646 -876705.022, -7867607.1...  \n"
          ]
        }
      ]
    },
    {
      "cell_type": "code",
      "source": [
        "import rasterio\n",
        "from rasterio.merge import merge\n",
        "import rasterio\n",
        "from rasterio.mask import mask\n",
        "import pandas as pd"
      ],
      "metadata": {
        "id": "Vkve7yrAFl14"
      },
      "execution_count": 12,
      "outputs": []
    },
    {
      "cell_type": "code",
      "source": [
        "import glob\n",
        "\n",
        "# Definimos el camino base donde se encuentran tus archivos .tif\n",
        "base_path = '/content/drive/MyDrive/Assign 10/tif_files/'\n",
        "\n",
        "# Utilizamos glob para encontrar todos los archivos\n",
        "raster_files = glob.glob(base_path + '*.tif')\n",
        "\n",
        "for file in raster_files:\n",
        "    print(file)"
      ],
      "metadata": {
        "id": "OYBIBOlDOiIB"
      },
      "execution_count": null,
      "outputs": []
    },
    {
      "cell_type": "code",
      "source": [
        "from rasterstats import zonal_stats\n",
        "# Creamos lista para nuestri rusteer\n",
        "all_stats = []\n",
        "\n",
        "# Creamos un loop sobre cada archivo raster\n",
        "for raster_path in raster_files:\n",
        "    # Ubicando las estadísticas zonales\n",
        "    stats = zonal_stats(departments, raster_path, stats=\"count sum\", categorical=True, all_touched=True)\n",
        "    # Convirtiendo a dataframe\n",
        "    stats_df = pd.DataFrame(stats)\n",
        "    # Concatenamos con la geometría y la información de los departamentos\n",
        "    df = pd.concat([departments.reset_index(drop=True), stats_df], axis=1)\n",
        "    all_stats.append(df)"
      ],
      "metadata": {
        "id": "k3cwAJihFvQt"
      },
      "execution_count": null,
      "outputs": []
    },
    {
      "cell_type": "markdown",
      "source": [
        "![Captura de pantalla 2024-03-02 211616.png](data:image/png;base64,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)"
      ],
      "metadata": {
        "id": "z9UoUU4nTU3Z"
      }
    },
    {
      "cell_type": "code",
      "source": [
        "#Solicita Colab Pro\n",
        "#El código sse cuelga, presentó el error con colab regular"
      ],
      "metadata": {
        "id": "YGSGXLM4TRZ5"
      },
      "execution_count": null,
      "outputs": []
    }
  ]
}