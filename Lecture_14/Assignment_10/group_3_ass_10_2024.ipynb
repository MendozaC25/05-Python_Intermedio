{
 "cells": [
  {
   "cell_type": "markdown",
   "id": "b4c12bc8",
   "metadata": {},
   "source": [
    "## Group #3\n"
   ]
  },
  {
   "cell_type": "markdown",
   "id": "e2750e5d",
   "metadata": {},
   "source": [
    "1. Get the 15 variables from this raster for all Peru departments polygons. This is the link where shapefiles are located. This is the link of the source raster. The values should be the percentage of district area cover by this specific Morphological Settlement Zone."
   ]
  },
  {
   "cell_type": "code",
   "execution_count": null,
   "id": "5c9d4aa8",
   "metadata": {},
   "outputs": [],
   "source": [
    "# pip install rasterio\n",
    "# %pip install geopandas matplotlib shapely rasterio numpy pandas sklearn-xarray -q\n",
    "# !pip install ipywidgets\n",
    "# !jupyter labextension install @jupyter-widgets/jupyterlab-manager\n",
    "# pip install rasterstats\n",
    "# %pip install geopandas matplotlib shapely rasterio numpy pandas sklearn-xarray -q\n",
    "# %pip install git+https://github.com/jgrss/geowombat  -q"
   ]
  },
  {
   "cell_type": "code",
   "execution_count": null,
   "id": "4789905c",
   "metadata": {},
   "outputs": [],
   "source": [
    "\n",
    "import geopandas as gpd\n",
    "import rasterio\n",
    "from rasterio.merge import merge\n",
    "from rasterio.plot import show\n",
    "from shapely.geometry import mapping\n",
    "import rasterio\n",
    "from pathlib import Path\n",
    "import matplotlib.pyplot as plt\n",
    "import matplotlib.patheffects as pe\n",
    "import os\n",
    "from rasterio.mask import mask\n",
    "from rasterstats import zonal_stats\n",
    "import pandas as pd\n",
    "#import geowombat as gw ## Chequear gw en collab\n",
    "\n"
   ]
  },
  {
   "cell_type": "code",
   "execution_count": null,
   "id": "a3813d15",
   "metadata": {},
   "outputs": [],
   "source": [
    "import geopandas as gpd\n",
    "\n",
    "# Ruta al shapefile\n",
    "shapefile_path = r'../../_data/INEI_LIMITE_DEPARTAMENTAL'\n",
    "\n",
    "# Leer el shapefile usando Geopandas\n",
    "departmentos = gpd.read_file(shapefile_path)\n",
    "departmentos = departments.to_crs('esri:54009')\n",
    "\n",
    "print(departmentos.head())"
   ]
  },
  {
   "cell_type": "code",
   "execution_count": null,
   "id": "3c91017c",
   "metadata": {},
   "outputs": [],
   "source": [
    "from google.colab import drive\n",
    "drive.mount('/content/drive')"
   ]
  },
  {
   "cell_type": "code",
   "execution_count": null,
   "id": "3ac57118",
   "metadata": {},
   "outputs": [],
   "source": [
    "# Rutas en collab\n",
    "\n",
    "raster = [\"drive/content/diplomado/assignment_10/tif_files/GHS_BUILT_C_MSZ_E2018_GLOBE_R2023A_54009_10_V1_0_R10_C11.tif\",\n",
    "          \"drive/content/diplomado/assignment_10/tif_files/GHS_BUILT_C_MSZ_E2018_GLOBE_R2023A_54009_10_V1_0_R10_C12.tif\",\n",
    "          \"drive/content/diplomado/assignment_10/tif_files/GHS_BUILT_C_MSZ_E2018_GLOBE_R2023A_54009_10_V1_0_R11_C11.tif\",\n",
    "          \"drive/content/diplomado/assignment_10/tif_files/GHS_BUILT_C_MSZ_E2018_GLOBE_R2023A_54009_10_V1_0_R11_C12.tif\",\n",
    "          \"drive/content/diplomado/assignment_10/tif_files/GHS_BUILT_C_MSZ_E2018_GLOBE_R2023A_54009_10_V1_0_R12_C11.tif\",\n",
    "          \"drive/content/diplomado/assignment_10/tif_files/GHS_BUILT_C_MSZ_E2018_GLOBE_R2023A_54009_10_V1_0_R12_C12.tif\"\n",
    "         ]\n",
    "\n",
    "statistics = []"
   ]
  },
  {
   "cell_type": "code",
   "execution_count": null,
   "id": "7786c4c9",
   "metadata": {},
   "outputs": [],
   "source": [
    "# Iterar sobre cada archivo raster\n",
    "for raster_path in raster:\n",
    "    # estadísticas zonales\n",
    "    stats = zonal_stats(departmentos, raster_path, stats=\"count sum\", categorical=True, all_touched=True)\n",
    "    # transforma DF\n",
    "    stats_df = pd.DataFrame(stats)\n",
    "    # Concatenar \n",
    "    df = pd.concat([departmentos.reset_index(drop=True), stats_df], axis=1)\n",
    "    statistics.append(df)"
   ]
  },
  {
   "cell_type": "code",
   "execution_count": null,
   "id": "f5476429",
   "metadata": {},
   "outputs": [],
   "source": [
    "# Concatenar todos los DataFrames en all_stats en un único DataFrame\n",
    "final_df = pd.concat(statistics, ignore_index=True)\n",
    "\n",
    "print(final_df.head())\n",
    "\n",
    "#Reemplazar todos los NaN por 0\n",
    "final_df.fillna(0, inplace=True)"
   ]
  },
  {
   "cell_type": "code",
   "execution_count": null,
   "id": "14984616",
   "metadata": {},
   "outputs": [],
   "source": []
  },
  {
   "cell_type": "markdown",
   "id": "9724792d",
   "metadata": {},
   "source": [
    "2. Then you are going to generate choropleth map using folium for these 15 variables."
   ]
  },
  {
   "cell_type": "code",
   "execution_count": null,
   "id": "a15a1cd1",
   "metadata": {},
   "outputs": [],
   "source": [
    "# Definir la área de pixeles (resolución del raster al cuadrado)\n",
    "spatial_resolution = 10  # meters\n",
    "pixel_area = spatial_resolution ** 2\n",
    "\n",
    "# Iterar por cada una de las 15 categorías MSZ\n",
    "for category in range(1, 16):\n",
    "    # Crear una nueva columna para cada categoría MSZ\n",
    "    column_name = f'MSZ_{category}_coverage'\n",
    "    \n",
    "    # Usar una función lambda con .apply para calcular el porcentaje de cobertura\n",
    "    coverage_function = lambda row: ((row.get(str(category), 0) * pixel_area) / row['geometry'].area) * 100 if str(category) in row else 0\n",
    "    \n",
    "    # Aplicar función al DataFrame\n",
    "    final_df[column_name] = final_df.apply(coverage_function, axis=1)"
   ]
  },
  {
   "cell_type": "markdown",
   "id": "f2fbdab7",
   "metadata": {},
   "source": [
    "3. Save your html in the same folder of your JN. Name your HTML as your branch. This HTML should have all these layers. Please do not forget to use Layer Control.\n"
   ]
  },
  {
   "cell_type": "code",
   "execution_count": null,
   "id": "c4c88d45",
   "metadata": {},
   "outputs": [],
   "source": [
    "# Crear un mapa centrado en una ubicación específica (puedes ajustar esto según tus datos)\n",
    "map_center = [-12.0757538, -76.9863174]\n",
    "mymap = folium.Map(location=map_center, zoom_start=5)\n",
    "\n",
    "# Agregar las capas al mapa\n",
    "for category in range(1, 16):\n",
    "    layer_name = f'MSZ_{category}_coverage'\n",
    "    geojson_data = final_df.to_json()\n",
    "    \n",
    "    folium.Choropleth(\n",
    "        geo_data=geojson_data,\n",
    "        data=final_df,\n",
    "        columns=['geometry', layer_name],\n",
    "        key_on='feature.properties.geometry',\n",
    "        fill_color='YlOrRd',  \n",
    "        fill_opacity=0.7,\n",
    "        line_opacity=0.2,\n",
    "        legend_name=f'MSZ {category} Coverage'\n",
    "    ).add_to(mymap)\n",
    "\n",
    "# Agregar el control de capas al mapa\n",
    "folium.LayerControl().add_to(mymap)\n",
    "\n",
    "# Guardar el mapa como un archivo HTML\n",
    "g3a10DFG_html = 'g3a10DFG.html'  \n",
    "mymap.save(g3a10DFG_html)"
   ]
  }
 ],
 "metadata": {
  "kernelspec": {
   "display_name": "Python 3 (ipykernel)",
   "language": "python",
   "name": "python3"
  },
  "language_info": {
   "codemirror_mode": {
    "name": "ipython",
    "version": 3
   },
   "file_extension": ".py",
   "mimetype": "text/x-python",
   "name": "python",
   "nbconvert_exporter": "python",
   "pygments_lexer": "ipython3",
   "version": "3.11.5"
  }
 },
 "nbformat": 4,
 "nbformat_minor": 5
}
