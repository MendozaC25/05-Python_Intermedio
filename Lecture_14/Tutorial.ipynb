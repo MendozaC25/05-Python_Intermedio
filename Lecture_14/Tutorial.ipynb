{
 "cells": [
  {
   "cell_type": "code",
   "execution_count": 1,
   "id": "8ea777b8",
   "metadata": {},
   "outputs": [],
   "source": [
    "import pandas as pd\n",
    "import geopandas as gpd\n",
    "\n",
    "import os\n",
    "\n",
    "\n",
    "import rasterio\n",
    "import geopandas as gpd\n",
    "import matplotlib.pyplot as plt\n",
    "from rasterio.merge import merge\n",
    "from rasterio.plot import show\n",
    "import os\n",
    "import rasterio\n",
    "from rasterio.mask import mask\n",
    "\n",
    "import geopandas as gpd\n",
    "import pyproj\n",
    "from shapely.ops import transform"
   ]
  },
  {
   "cell_type": "code",
   "execution_count": null,
   "id": "c06b8a7f",
   "metadata": {},
   "outputs": [],
   "source": [
    "districts = gpd.read_file('../_data/shape_file/DISTRITOS.shp')\n",
    "districts = districts.to_crs(54009)"
   ]
  },
  {
   "cell_type": "code",
   "execution_count": 35,
   "id": "09333cc4-6e41-4576-88cf-e91ff0e13b8d",
   "metadata": {},
   "outputs": [
    {
     "data": {
      "image/png": "[encoded data removed]",
      "text/plain": [
       "<Figure size 640x480 with 2 Axes>"
      ]
     },
     "metadata": {},
     "output_type": "display_data"
    },
    {
     "name": "stdout",
     "output_type": "stream",
     "text": [
      "The TIFF file has 1 bands.\n"
     ]
    }
   ],
   "source": [
    "import rasterio\n",
    "import matplotlib.pyplot as plt\n",
    "\n",
    "# Path to the TIFF file\n",
    "tif_file_path = '../_data/rasters_europa/GHS_BUILT_C_MSZ_E2018_GLOBE_R2023A_54009_10_V1_0_R12_C11 (1)/GHS_BUILT_C_MSZ_E2018_GLOBE_R2023A_54009_10_V1_0_R12_C11.tif'\n",
    "\n",
    "# Since we can't access external files in this environment, this code is for demonstration purposes only\n",
    "# Replace the path with the actual path when you run it in your local environment\n",
    "\n",
    "# Open the TIFF file\n",
    "with rasterio.open(tif_file_path) as src:\n",
    "    # Read the number of bands\n",
    "    num_bands = src.count\n",
    "    \n",
    "    # Read the first band data\n",
    "    band1 = src.read(1)\n",
    "    \n",
    "    # Plot the first band\n",
    "    plt.imshow(band1, cmap='gray')\n",
    "    plt.colorbar()\n",
    "    plt.title(f'Band 1 of TIFF file (Total bands: {num_bands})')\n",
    "    plt.show()\n",
    "    \n",
    "    # Output the number of bands\n",
    "    print(f\"The TIFF file has {num_bands} bands.\")\n"
   ]
  },
  {
   "cell_type": "code",
   "execution_count": 26,
   "id": "47512dc1",
   "metadata": {},
   "outputs": [],
   "source": [
    "import pyproj\n",
    "transformer = pyproj.Transformer.from_crs('epsg:4326', 'esri:54009', always_xy=True)\n",
    "\n",
    "# Define a function to apply the transformation\n",
    "def apply_transform(geom):\n",
    "    return transform(transformer.transform, geom)\n",
    "\n",
    "# Apply the transformation to the geometries\n",
    "districts['geometry'] = districts['geometry'].apply(apply_transform)"
   ]
  },
  {
   "cell_type": "code",
   "execution_count": 47,
   "id": "11c74a07",
   "metadata": {},
   "outputs": [],
   "source": [
    "minx, miny, maxx, maxy = districts.total_bounds"
   ]
  },
  {
   "cell_type": "code",
   "execution_count": 48,
   "id": "73ae3b64",
   "metadata": {},
   "outputs": [],
   "source": [
    "from rasterio.windows import from_bounds\n",
    "\n",
    "# Ensure the shapefile is in the same CRS as the raster\n",
    "raster_path = '../_data/rasters_europa/GHS_BUILT_C_MSZ_E2018_GLOBE_R2023A_54009_10_V1_0_R11_C11 (1)/GHS_BUILT_C_MSZ_E2018_GLOBE_R2023A_54009_10_V1_0_R11_C11.tif'\n",
    "with rasterio.open(raster_path) as src:\n",
    "\n",
    "    # Create a mask for the intersection area\n",
    "    shapes = [feature[\"geometry\"] for _, feature in districts.iterrows()]\n",
    "    out_image, out_transform = mask(src, shapes, crop=True)\n",
    "    out_meta = src.meta.copy()\n",
    "\n",
    "# Update the metadata for the new (clipped) raster\n",
    "out_meta.update({\n",
    "    \"driver\": \"GTiff\",\n",
    "    \"height\": out_image.shape[1],\n",
    "    \"width\": out_image.shape[2],\n",
    "    \"transform\": out_transform\n",
    "})\n",
    "\n",
    "# Save the clipped raster to a new file\n",
    "output_raster_path = '/Users/ar8787/Documents/GitHub/Diplomado_PUCP/_data/raster_trim_europa/clipped_raster_intersection.tif'\n",
    "with rasterio.open(output_raster_path, 'w', **out_meta) as dst:\n",
    "    dst.write(out_image)\n",
    "\n",
    "import geopandas as gpd\n",
    "from rasterstats import zonal_stats\n",
    "\n",
    "raster_path = '../_data/rasters_europa/GHS_BUILT_C_MSZ_E2018_GLOBE_R2023A_54009_10_V1_0_R11_C11 (1)/GHS_BUILT_C_MSZ_E2018_GLOBE_R2023A_54009_10_V1_0_R11_C11.tif'\n",
    "stats = zonal_stats(districts, raster_path, stats=\"unique\", categorical=True)\n"
   ]
  },
  {
   "cell_type": "code",
   "execution_count": 62,
   "id": "e0340931",
   "metadata": {},
   "outputs": [],
   "source": [
    "import pandas as pd"
   ]
  },
  {
   "cell_type": "code",
   "execution_count": 63,
   "id": "63bf8270",
   "metadata": {},
   "outputs": [],
   "source": [
    "stats_df = pd.DataFrame(stats)"
   ]
  },
  {
   "cell_type": "code",
   "execution_count": 70,
   "id": "0ead7b84",
   "metadata": {},
   "outputs": [],
   "source": [
    "df1 = pd.concat([districts, stats_df], axis = 1 )"
   ]
  }
 ],
 "metadata": {
  "kernelspec": {
   "display_name": "Python 3 (ipykernel)",
   "language": "python",
   "name": "python3"
  },
  "language_info": {
   "codemirror_mode": {
    "name": "ipython",
    "version": 3
   },
   "file_extension": ".py",
   "mimetype": "text/x-python",
   "name": "python",
   "nbconvert_exporter": "python",
   "pygments_lexer": "ipython3",
   "version": "3.11.5"
  }
 },
 "nbformat": 4,
 "nbformat_minor": 5
}
