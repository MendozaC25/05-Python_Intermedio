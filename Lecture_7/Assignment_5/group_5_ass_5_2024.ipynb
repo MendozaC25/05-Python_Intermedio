{
 "cells": [
  {
   "cell_type": "code",
   "execution_count": 1,
   "id": "8b4870f5",
   "metadata": {},
   "outputs": [],
   "source": [
    "from selenium import webdriver\n",
    "from selenium.webdriver.chrome.service import Service\n",
    "from selenium.webdriver.common.keys import Keys\n",
    "from selenium.webdriver import ActionChains\n",
    "from bs4 import BeautifulSoup\n",
    "import os\n",
    "import time\n",
    "from selenium import webdriver\n",
    "from selenium.webdriver.common.by import By\n",
    "from selenium.webdriver.common.action_chains import ActionChains\n",
    "from selenium.webdriver.support.ui import WebDriverWait\n",
    "from selenium.webdriver.support import expected_conditions as EC\n",
    "import pandas as pd\n",
    "import requests"
   ]
  },
  {
   "cell_type": "markdown",
   "id": "7c78f21e",
   "metadata": {},
   "source": [
    "## Launch the driver "
   ]
  },
  {
   "cell_type": "code",
   "execution_count": 2,
   "id": "52eec901",
   "metadata": {},
   "outputs": [],
   "source": [
    "service = Service(executable_path=r'../chromedriver-win64/chromedriver.exe')\n",
    "options = webdriver.ChromeOptions()\n",
    "driver = webdriver.Chrome(service=service, options=options)\n",
    "\n",
    "url = 'https://infogob.jne.gob.pe/Eleccion'\n",
    "driver.get(url)\n",
    "driver.maximize_window()"
   ]
  },
  {
   "cell_type": "markdown",
   "id": "f1362a5b",
   "metadata": {},
   "source": [
    "## Select the 2021 presidential election in the dropdown list"
   ]
  },
  {
   "cell_type": "code",
   "execution_count": 3,
   "id": "4ea82e83",
   "metadata": {},
   "outputs": [],
   "source": [
    "# we open the dropdown list for 'Tipo de eleccion'\n",
    "dropdown_tipo = WebDriverWait(driver, 10).until(\n",
    "    EC.element_to_be_clickable((By.XPATH, '/html/body/div[1]/section/div[2]/div[2]/div[2]/div[1]/div'))\n",
    ")\n",
    "dropdown_tipo.click()\n",
    "\n",
    "# We select the option that contains 'ELECCIONES PRESIDENCIALES'\n",
    "option_presidencial = WebDriverWait(driver, 10).until(\n",
    "    EC.element_to_be_clickable((By.XPATH, '//div[contains(text(), \"ELECCIONES PRESIDENCIALES\")]'))\n",
    ")\n",
    "option_presidencial.click()\n",
    "\n",
    "time.sleep(3)\n",
    "\n",
    "# We open the second dropdown and select t\n",
    "dropdown_eleccion = WebDriverWait(driver, 10).until(\n",
    "    EC.element_to_be_clickable((By.XPATH, '/html/body/div[1]/section/div[2]/div[2]/div[2]/div[2]/div'))\n",
    ")\n",
    "dropdown_eleccion.click()\n",
    "\n",
    "# We select the option from the second dropdown\n",
    "option_presidencial21 = WebDriverWait(driver, 10).until(\n",
    "    EC.element_to_be_clickable((By.XPATH, '//div[contains(text(), \"PRESIDENCIAL 2021 - 2DA VUELTA\")]'))\n",
    ")\n",
    "option_presidencial21.click()\n",
    "\n",
    "time.sleep(3)\n",
    "# We click the search button\n",
    "\n",
    "driver.find_element(By.ID,'btnVerDatos').click()"
   ]
  },
  {
   "cell_type": "markdown",
   "id": "2ae7832c",
   "metadata": {},
   "source": [
    "## Access the element 'Candidatos y Resultados' and get table"
   ]
  },
  {
   "cell_type": "markdown",
   "id": "1c02b7ee",
   "metadata": {},
   "source": [
    "### Get votes table"
   ]
  },
  {
   "cell_type": "markdown",
   "id": "3ddf1a5a",
   "metadata": {},
   "source": [
    "## Replicate the code for the other elections\n"
   ]
  },
  {
   "cell_type": "code",
   "execution_count": 12,
   "id": "c74d5871",
   "metadata": {
    "scrolled": true
   },
   "outputs": [],
   "source": [
    "# ## We obtain a list with all the elections from the webpage \n",
    "\n",
    "# In[42]:\n",
    "\n",
    "\n",
    "service = Service(executable_path=r'../chromedriver-win64/chromedriver.exe')\n",
    "options = webdriver.ChromeOptions()\n",
    "driver = webdriver.Chrome(service=service, options=options)\n",
    "\n",
    "url = 'https://infogob.jne.gob.pe/Eleccion'\n",
    "driver.get(url)\n",
    "driver.maximize_window()\n",
    "\n",
    "# Open 'Tipo de Proceso' drop-down\n",
    "# we open the dropdown list for 'Tipo de eleccion'\n",
    "dropdown_tipo = WebDriverWait(driver, 10).until(\n",
    "    EC.element_to_be_clickable((By.XPATH, '/html/body/div[1]/section/div[2]/div[2]/div[2]/div[1]/div'))\n",
    ")\n",
    "dropdown_tipo.click()\n",
    "\n",
    "# We select the option that contains 'ELECCIONES PRESIDENCIALES'\n",
    "option_presidencial = WebDriverWait(driver, 10).until(\n",
    "    EC.element_to_be_clickable((By.XPATH, '//div[contains(text(), \"ELECCIONES PRESIDENCIAL\")]'))\n",
    ")\n",
    "option_presidencial.click()\n",
    "\n",
    "time.sleep(3)\n",
    "\n",
    "# Open 'Elección' drop-down\n",
    "eleccion_dropdown = WebDriverWait(driver, 10).until(\n",
    "    EC.element_to_be_clickable((By.XPATH, '/html/body/div[1]/section/div[2]/div[2]/div[2]/div[2]/div'))\n",
    ")\n",
    "eleccion_dropdown.click()\n",
    "\n",
    "# Get all options in the dropdown that contain 'PRESIDENCIAL'\n",
    "presidencial_options = driver.find_elements(By.XPATH, '//div[contains(text(), \"PRESIDENCIAL \")]')\n",
    "\n"
   ]
  },
  {
   "cell_type": "code",
   "execution_count": 13,
   "id": "977ec177",
   "metadata": {},
   "outputs": [
    {
     "data": {
      "text/plain": [
       "[<selenium.webdriver.remote.webelement.WebElement (session=\"0fec63ff8a42be3ad244ccf92c089577\", element=\"923D3A42322DEA29A175B1A10E0C1D95_element_61\")>,\n",
       " <selenium.webdriver.remote.webelement.WebElement (session=\"0fec63ff8a42be3ad244ccf92c089577\", element=\"923D3A42322DEA29A175B1A10E0C1D95_element_62\")>,\n",
       " <selenium.webdriver.remote.webelement.WebElement (session=\"0fec63ff8a42be3ad244ccf92c089577\", element=\"923D3A42322DEA29A175B1A10E0C1D95_element_63\")>,\n",
       " <selenium.webdriver.remote.webelement.WebElement (session=\"0fec63ff8a42be3ad244ccf92c089577\", element=\"923D3A42322DEA29A175B1A10E0C1D95_element_64\")>,\n",
       " <selenium.webdriver.remote.webelement.WebElement (session=\"0fec63ff8a42be3ad244ccf92c089577\", element=\"923D3A42322DEA29A175B1A10E0C1D95_element_65\")>,\n",
       " <selenium.webdriver.remote.webelement.WebElement (session=\"0fec63ff8a42be3ad244ccf92c089577\", element=\"923D3A42322DEA29A175B1A10E0C1D95_element_66\")>,\n",
       " <selenium.webdriver.remote.webelement.WebElement (session=\"0fec63ff8a42be3ad244ccf92c089577\", element=\"923D3A42322DEA29A175B1A10E0C1D95_element_67\")>,\n",
       " <selenium.webdriver.remote.webelement.WebElement (session=\"0fec63ff8a42be3ad244ccf92c089577\", element=\"923D3A42322DEA29A175B1A10E0C1D95_element_68\")>,\n",
       " <selenium.webdriver.remote.webelement.WebElement (session=\"0fec63ff8a42be3ad244ccf92c089577\", element=\"923D3A42322DEA29A175B1A10E0C1D95_element_69\")>,\n",
       " <selenium.webdriver.remote.webelement.WebElement (session=\"0fec63ff8a42be3ad244ccf92c089577\", element=\"923D3A42322DEA29A175B1A10E0C1D95_element_70\")>,\n",
       " <selenium.webdriver.remote.webelement.WebElement (session=\"0fec63ff8a42be3ad244ccf92c089577\", element=\"923D3A42322DEA29A175B1A10E0C1D95_element_71\")>,\n",
       " <selenium.webdriver.remote.webelement.WebElement (session=\"0fec63ff8a42be3ad244ccf92c089577\", element=\"923D3A42322DEA29A175B1A10E0C1D95_element_72\")>,\n",
       " <selenium.webdriver.remote.webelement.WebElement (session=\"0fec63ff8a42be3ad244ccf92c089577\", element=\"923D3A42322DEA29A175B1A10E0C1D95_element_73\")>,\n",
       " <selenium.webdriver.remote.webelement.WebElement (session=\"0fec63ff8a42be3ad244ccf92c089577\", element=\"923D3A42322DEA29A175B1A10E0C1D95_element_74\")>,\n",
       " <selenium.webdriver.remote.webelement.WebElement (session=\"0fec63ff8a42be3ad244ccf92c089577\", element=\"923D3A42322DEA29A175B1A10E0C1D95_element_75\")>,\n",
       " <selenium.webdriver.remote.webelement.WebElement (session=\"0fec63ff8a42be3ad244ccf92c089577\", element=\"923D3A42322DEA29A175B1A10E0C1D95_element_76\")>,\n",
       " <selenium.webdriver.remote.webelement.WebElement (session=\"0fec63ff8a42be3ad244ccf92c089577\", element=\"923D3A42322DEA29A175B1A10E0C1D95_element_77\")>,\n",
       " <selenium.webdriver.remote.webelement.WebElement (session=\"0fec63ff8a42be3ad244ccf92c089577\", element=\"923D3A42322DEA29A175B1A10E0C1D95_element_78\")>,\n",
       " <selenium.webdriver.remote.webelement.WebElement (session=\"0fec63ff8a42be3ad244ccf92c089577\", element=\"923D3A42322DEA29A175B1A10E0C1D95_element_79\")>,\n",
       " <selenium.webdriver.remote.webelement.WebElement (session=\"0fec63ff8a42be3ad244ccf92c089577\", element=\"923D3A42322DEA29A175B1A10E0C1D95_element_80\")>,\n",
       " <selenium.webdriver.remote.webelement.WebElement (session=\"0fec63ff8a42be3ad244ccf92c089577\", element=\"923D3A42322DEA29A175B1A10E0C1D95_element_81\")>,\n",
       " <selenium.webdriver.remote.webelement.WebElement (session=\"0fec63ff8a42be3ad244ccf92c089577\", element=\"923D3A42322DEA29A175B1A10E0C1D95_element_82\")>,\n",
       " <selenium.webdriver.remote.webelement.WebElement (session=\"0fec63ff8a42be3ad244ccf92c089577\", element=\"923D3A42322DEA29A175B1A10E0C1D95_element_83\")>,\n",
       " <selenium.webdriver.remote.webelement.WebElement (session=\"0fec63ff8a42be3ad244ccf92c089577\", element=\"923D3A42322DEA29A175B1A10E0C1D95_element_84\")>,\n",
       " <selenium.webdriver.remote.webelement.WebElement (session=\"0fec63ff8a42be3ad244ccf92c089577\", element=\"923D3A42322DEA29A175B1A10E0C1D95_element_85\")>]"
      ]
     },
     "execution_count": 13,
     "metadata": {},
     "output_type": "execute_result"
    }
   ],
   "source": [
    "presidencial_options"
   ]
  },
  {
   "cell_type": "code",
   "execution_count": 14,
   "id": "1cd9d4a8",
   "metadata": {},
   "outputs": [
    {
     "data": {
      "text/plain": [
       "{'PRESIDENCIAL 2021 - 2DA VUELTA': <selenium.webdriver.remote.webelement.WebElement (session=\"0fec63ff8a42be3ad244ccf92c089577\", element=\"923D3A42322DEA29A175B1A10E0C1D95_element_61\")>,\n",
       " 'PRESIDENCIAL 2021': <selenium.webdriver.remote.webelement.WebElement (session=\"0fec63ff8a42be3ad244ccf92c089577\", element=\"923D3A42322DEA29A175B1A10E0C1D95_element_62\")>,\n",
       " 'PRESIDENCIAL 2016 - 2DA VUELTA': <selenium.webdriver.remote.webelement.WebElement (session=\"0fec63ff8a42be3ad244ccf92c089577\", element=\"923D3A42322DEA29A175B1A10E0C1D95_element_63\")>,\n",
       " 'PRESIDENCIAL 2016': <selenium.webdriver.remote.webelement.WebElement (session=\"0fec63ff8a42be3ad244ccf92c089577\", element=\"923D3A42322DEA29A175B1A10E0C1D95_element_64\")>,\n",
       " 'PRESIDENCIAL 2011 - 2DA VUELTA': <selenium.webdriver.remote.webelement.WebElement (session=\"0fec63ff8a42be3ad244ccf92c089577\", element=\"923D3A42322DEA29A175B1A10E0C1D95_element_65\")>,\n",
       " 'PRESIDENCIAL 2011': <selenium.webdriver.remote.webelement.WebElement (session=\"0fec63ff8a42be3ad244ccf92c089577\", element=\"923D3A42322DEA29A175B1A10E0C1D95_element_66\")>,\n",
       " 'PRESIDENCIAL 2006 - 2DA VUELTA': <selenium.webdriver.remote.webelement.WebElement (session=\"0fec63ff8a42be3ad244ccf92c089577\", element=\"923D3A42322DEA29A175B1A10E0C1D95_element_67\")>,\n",
       " 'PRESIDENCIAL 2006': <selenium.webdriver.remote.webelement.WebElement (session=\"0fec63ff8a42be3ad244ccf92c089577\", element=\"923D3A42322DEA29A175B1A10E0C1D95_element_68\")>,\n",
       " 'PRESIDENCIAL 2001 - 2DA VUELTA': <selenium.webdriver.remote.webelement.WebElement (session=\"0fec63ff8a42be3ad244ccf92c089577\", element=\"923D3A42322DEA29A175B1A10E0C1D95_element_69\")>,\n",
       " 'PRESIDENCIAL 2001': <selenium.webdriver.remote.webelement.WebElement (session=\"0fec63ff8a42be3ad244ccf92c089577\", element=\"923D3A42322DEA29A175B1A10E0C1D95_element_70\")>,\n",
       " 'PRESIDENCIAL 2000 - 2DA VUELTA': <selenium.webdriver.remote.webelement.WebElement (session=\"0fec63ff8a42be3ad244ccf92c089577\", element=\"923D3A42322DEA29A175B1A10E0C1D95_element_71\")>,\n",
       " 'PRESIDENCIAL 2000': <selenium.webdriver.remote.webelement.WebElement (session=\"0fec63ff8a42be3ad244ccf92c089577\", element=\"923D3A42322DEA29A175B1A10E0C1D95_element_72\")>,\n",
       " 'PRESIDENCIAL 1995': <selenium.webdriver.remote.webelement.WebElement (session=\"0fec63ff8a42be3ad244ccf92c089577\", element=\"923D3A42322DEA29A175B1A10E0C1D95_element_73\")>,\n",
       " 'PRESIDENCIAL 1990 - 2DA VUELTA': <selenium.webdriver.remote.webelement.WebElement (session=\"0fec63ff8a42be3ad244ccf92c089577\", element=\"923D3A42322DEA29A175B1A10E0C1D95_element_74\")>,\n",
       " 'PRESIDENCIAL 1990': <selenium.webdriver.remote.webelement.WebElement (session=\"0fec63ff8a42be3ad244ccf92c089577\", element=\"923D3A42322DEA29A175B1A10E0C1D95_element_75\")>,\n",
       " 'PRESIDENCIAL 1985': <selenium.webdriver.remote.webelement.WebElement (session=\"0fec63ff8a42be3ad244ccf92c089577\", element=\"923D3A42322DEA29A175B1A10E0C1D95_element_76\")>,\n",
       " 'PRESIDENCIAL 1980': <selenium.webdriver.remote.webelement.WebElement (session=\"0fec63ff8a42be3ad244ccf92c089577\", element=\"923D3A42322DEA29A175B1A10E0C1D95_element_77\")>,\n",
       " 'PRESIDENCIAL 1963': <selenium.webdriver.remote.webelement.WebElement (session=\"0fec63ff8a42be3ad244ccf92c089577\", element=\"923D3A42322DEA29A175B1A10E0C1D95_element_78\")>,\n",
       " 'PRESIDENCIAL 1962': <selenium.webdriver.remote.webelement.WebElement (session=\"0fec63ff8a42be3ad244ccf92c089577\", element=\"923D3A42322DEA29A175B1A10E0C1D95_element_79\")>,\n",
       " 'PRESIDENCIAL 1956': <selenium.webdriver.remote.webelement.WebElement (session=\"0fec63ff8a42be3ad244ccf92c089577\", element=\"923D3A42322DEA29A175B1A10E0C1D95_element_80\")>,\n",
       " 'PRESIDENCIAL 1950': <selenium.webdriver.remote.webelement.WebElement (session=\"0fec63ff8a42be3ad244ccf92c089577\", element=\"923D3A42322DEA29A175B1A10E0C1D95_element_81\")>,\n",
       " 'PRESIDENCIAL 1945': <selenium.webdriver.remote.webelement.WebElement (session=\"0fec63ff8a42be3ad244ccf92c089577\", element=\"923D3A42322DEA29A175B1A10E0C1D95_element_82\")>,\n",
       " 'PRESIDENCIAL 1939': <selenium.webdriver.remote.webelement.WebElement (session=\"0fec63ff8a42be3ad244ccf92c089577\", element=\"923D3A42322DEA29A175B1A10E0C1D95_element_83\")>,\n",
       " 'PRESIDENCIAL 1936': <selenium.webdriver.remote.webelement.WebElement (session=\"0fec63ff8a42be3ad244ccf92c089577\", element=\"923D3A42322DEA29A175B1A10E0C1D95_element_84\")>,\n",
       " 'PRESIDENCIAL 1931': <selenium.webdriver.remote.webelement.WebElement (session=\"0fec63ff8a42be3ad244ccf92c089577\", element=\"923D3A42322DEA29A175B1A10E0C1D95_element_85\")>}"
      ]
     },
     "execution_count": 14,
     "metadata": {},
     "output_type": "execute_result"
    }
   ],
   "source": [
    "#we create a dictionary \n",
    "dict_pres_options = { i.text : i for i in presidencial_options }\n",
    "dict_pres_options"
   ]
  },
  {
   "cell_type": "code",
   "execution_count": 15,
   "id": "623e2e75",
   "metadata": {},
   "outputs": [],
   "source": [
    "#we create a dictionary \n",
    "dict_options = { i.text : i for i in presidencial_options }"
   ]
  },
  {
   "cell_type": "code",
   "execution_count": 16,
   "id": "e2c005f7",
   "metadata": {},
   "outputs": [
    {
     "data": {
      "text/plain": [
       "{'PRESIDENCIAL 2021 - 2DA VUELTA': <selenium.webdriver.remote.webelement.WebElement (session=\"0fec63ff8a42be3ad244ccf92c089577\", element=\"923D3A42322DEA29A175B1A10E0C1D95_element_61\")>,\n",
       " 'PRESIDENCIAL 2021': <selenium.webdriver.remote.webelement.WebElement (session=\"0fec63ff8a42be3ad244ccf92c089577\", element=\"923D3A42322DEA29A175B1A10E0C1D95_element_62\")>,\n",
       " 'PRESIDENCIAL 2016 - 2DA VUELTA': <selenium.webdriver.remote.webelement.WebElement (session=\"0fec63ff8a42be3ad244ccf92c089577\", element=\"923D3A42322DEA29A175B1A10E0C1D95_element_63\")>,\n",
       " 'PRESIDENCIAL 2016': <selenium.webdriver.remote.webelement.WebElement (session=\"0fec63ff8a42be3ad244ccf92c089577\", element=\"923D3A42322DEA29A175B1A10E0C1D95_element_64\")>,\n",
       " 'PRESIDENCIAL 2011 - 2DA VUELTA': <selenium.webdriver.remote.webelement.WebElement (session=\"0fec63ff8a42be3ad244ccf92c089577\", element=\"923D3A42322DEA29A175B1A10E0C1D95_element_65\")>,\n",
       " 'PRESIDENCIAL 2011': <selenium.webdriver.remote.webelement.WebElement (session=\"0fec63ff8a42be3ad244ccf92c089577\", element=\"923D3A42322DEA29A175B1A10E0C1D95_element_66\")>,\n",
       " 'PRESIDENCIAL 2006 - 2DA VUELTA': <selenium.webdriver.remote.webelement.WebElement (session=\"0fec63ff8a42be3ad244ccf92c089577\", element=\"923D3A42322DEA29A175B1A10E0C1D95_element_67\")>,\n",
       " 'PRESIDENCIAL 2006': <selenium.webdriver.remote.webelement.WebElement (session=\"0fec63ff8a42be3ad244ccf92c089577\", element=\"923D3A42322DEA29A175B1A10E0C1D95_element_68\")>,\n",
       " 'PRESIDENCIAL 2001 - 2DA VUELTA': <selenium.webdriver.remote.webelement.WebElement (session=\"0fec63ff8a42be3ad244ccf92c089577\", element=\"923D3A42322DEA29A175B1A10E0C1D95_element_69\")>,\n",
       " 'PRESIDENCIAL 2001': <selenium.webdriver.remote.webelement.WebElement (session=\"0fec63ff8a42be3ad244ccf92c089577\", element=\"923D3A42322DEA29A175B1A10E0C1D95_element_70\")>,\n",
       " 'PRESIDENCIAL 2000 - 2DA VUELTA': <selenium.webdriver.remote.webelement.WebElement (session=\"0fec63ff8a42be3ad244ccf92c089577\", element=\"923D3A42322DEA29A175B1A10E0C1D95_element_71\")>,\n",
       " 'PRESIDENCIAL 2000': <selenium.webdriver.remote.webelement.WebElement (session=\"0fec63ff8a42be3ad244ccf92c089577\", element=\"923D3A42322DEA29A175B1A10E0C1D95_element_72\")>,\n",
       " 'PRESIDENCIAL 1995': <selenium.webdriver.remote.webelement.WebElement (session=\"0fec63ff8a42be3ad244ccf92c089577\", element=\"923D3A42322DEA29A175B1A10E0C1D95_element_73\")>,\n",
       " 'PRESIDENCIAL 1990 - 2DA VUELTA': <selenium.webdriver.remote.webelement.WebElement (session=\"0fec63ff8a42be3ad244ccf92c089577\", element=\"923D3A42322DEA29A175B1A10E0C1D95_element_74\")>,\n",
       " 'PRESIDENCIAL 1990': <selenium.webdriver.remote.webelement.WebElement (session=\"0fec63ff8a42be3ad244ccf92c089577\", element=\"923D3A42322DEA29A175B1A10E0C1D95_element_75\")>,\n",
       " 'PRESIDENCIAL 1985': <selenium.webdriver.remote.webelement.WebElement (session=\"0fec63ff8a42be3ad244ccf92c089577\", element=\"923D3A42322DEA29A175B1A10E0C1D95_element_76\")>,\n",
       " 'PRESIDENCIAL 1980': <selenium.webdriver.remote.webelement.WebElement (session=\"0fec63ff8a42be3ad244ccf92c089577\", element=\"923D3A42322DEA29A175B1A10E0C1D95_element_77\")>,\n",
       " 'PRESIDENCIAL 1963': <selenium.webdriver.remote.webelement.WebElement (session=\"0fec63ff8a42be3ad244ccf92c089577\", element=\"923D3A42322DEA29A175B1A10E0C1D95_element_78\")>,\n",
       " 'PRESIDENCIAL 1962': <selenium.webdriver.remote.webelement.WebElement (session=\"0fec63ff8a42be3ad244ccf92c089577\", element=\"923D3A42322DEA29A175B1A10E0C1D95_element_79\")>,\n",
       " 'PRESIDENCIAL 1956': <selenium.webdriver.remote.webelement.WebElement (session=\"0fec63ff8a42be3ad244ccf92c089577\", element=\"923D3A42322DEA29A175B1A10E0C1D95_element_80\")>,\n",
       " 'PRESIDENCIAL 1950': <selenium.webdriver.remote.webelement.WebElement (session=\"0fec63ff8a42be3ad244ccf92c089577\", element=\"923D3A42322DEA29A175B1A10E0C1D95_element_81\")>,\n",
       " 'PRESIDENCIAL 1945': <selenium.webdriver.remote.webelement.WebElement (session=\"0fec63ff8a42be3ad244ccf92c089577\", element=\"923D3A42322DEA29A175B1A10E0C1D95_element_82\")>,\n",
       " 'PRESIDENCIAL 1939': <selenium.webdriver.remote.webelement.WebElement (session=\"0fec63ff8a42be3ad244ccf92c089577\", element=\"923D3A42322DEA29A175B1A10E0C1D95_element_83\")>,\n",
       " 'PRESIDENCIAL 1936': <selenium.webdriver.remote.webelement.WebElement (session=\"0fec63ff8a42be3ad244ccf92c089577\", element=\"923D3A42322DEA29A175B1A10E0C1D95_element_84\")>,\n",
       " 'PRESIDENCIAL 1931': <selenium.webdriver.remote.webelement.WebElement (session=\"0fec63ff8a42be3ad244ccf92c089577\", element=\"923D3A42322DEA29A175B1A10E0C1D95_element_85\")>}"
      ]
     },
     "execution_count": 16,
     "metadata": {},
     "output_type": "execute_result"
    }
   ],
   "source": [
    "dict_options"
   ]
  },
  {
   "cell_type": "code",
   "execution_count": 17,
   "id": "2ad54dec",
   "metadata": {
    "scrolled": true
   },
   "outputs": [
    {
     "data": {
      "text/plain": [
       "dict_keys(['PRESIDENCIAL 2021 - 2DA VUELTA', 'PRESIDENCIAL 2021', 'PRESIDENCIAL 2016 - 2DA VUELTA', 'PRESIDENCIAL 2016', 'PRESIDENCIAL 2011 - 2DA VUELTA', 'PRESIDENCIAL 2011', 'PRESIDENCIAL 2006 - 2DA VUELTA', 'PRESIDENCIAL 2006', 'PRESIDENCIAL 2001 - 2DA VUELTA', 'PRESIDENCIAL 2001', 'PRESIDENCIAL 2000 - 2DA VUELTA', 'PRESIDENCIAL 2000', 'PRESIDENCIAL 1995', 'PRESIDENCIAL 1990 - 2DA VUELTA', 'PRESIDENCIAL 1990', 'PRESIDENCIAL 1985', 'PRESIDENCIAL 1980', 'PRESIDENCIAL 1963', 'PRESIDENCIAL 1962', 'PRESIDENCIAL 1956', 'PRESIDENCIAL 1950', 'PRESIDENCIAL 1945', 'PRESIDENCIAL 1939', 'PRESIDENCIAL 1936', 'PRESIDENCIAL 1931'])"
      ]
     },
     "execution_count": 17,
     "metadata": {},
     "output_type": "execute_result"
    }
   ],
   "source": [
    "# There are three options\n",
    "dict_pres_options.keys()"
   ]
  },
  {
   "cell_type": "code",
   "execution_count": 25,
   "id": "97400369",
   "metadata": {
    "scrolled": false
   },
   "outputs": [
    {
     "data": {
      "text/plain": [
       "['PRESIDENCIAL 2021 - 2DA VUELTA',\n",
       " 'PRESIDENCIAL 2021',\n",
       " 'PRESIDENCIAL 2016 - 2DA VUELTA',\n",
       " 'PRESIDENCIAL 2016',\n",
       " 'PRESIDENCIAL 2011 - 2DA VUELTA',\n",
       " 'PRESIDENCIAL 2011',\n",
       " 'PRESIDENCIAL 2006 - 2DA VUELTA',\n",
       " 'PRESIDENCIAL 2006',\n",
       " 'PRESIDENCIAL 2001 - 2DA VUELTA',\n",
       " 'PRESIDENCIAL 2001',\n",
       " 'PRESIDENCIAL 2000 - 2DA VUELTA',\n",
       " 'PRESIDENCIAL 2000',\n",
       " 'PRESIDENCIAL 1995',\n",
       " 'PRESIDENCIAL 1990 - 2DA VUELTA',\n",
       " 'PRESIDENCIAL 1990',\n",
       " 'PRESIDENCIAL 1985',\n",
       " 'PRESIDENCIAL 1980',\n",
       " 'PRESIDENCIAL 1963',\n",
       " 'PRESIDENCIAL 1962',\n",
       " 'PRESIDENCIAL 1956',\n",
       " 'PRESIDENCIAL 1950',\n",
       " 'PRESIDENCIAL 1945',\n",
       " 'PRESIDENCIAL 1939',\n",
       " 'PRESIDENCIAL 1936',\n",
       " 'PRESIDENCIAL 1931']"
      ]
     },
     "execution_count": 25,
     "metadata": {},
     "output_type": "execute_result"
    }
   ],
   "source": [
    "#Creamos una lista con los nombres de las elecciones\n",
    "elecciones = list(dict_pres_options.keys())\n",
    "elecciones"
   ]
  },
  {
   "cell_type": "code",
   "execution_count": null,
   "id": "9c1c7263",
   "metadata": {},
   "outputs": [],
   "source": [
    "driver.quit()"
   ]
  },
  {
   "cell_type": "code",
   "execution_count": 24,
   "id": "7be91e22",
   "metadata": {},
   "outputs": [],
   "source": [
    "service = Service(executable_path=r'../chromedriver-win64/chromedriver.exe')\n",
    "options = webdriver.ChromeOptions()\n",
    "driver = webdriver.Chrome(service=service, options=options)\n",
    "\n",
    "url = 'https://infogob.jne.gob.pe/Eleccion'\n",
    "driver.get(url)\n",
    "driver.maximize_window()"
   ]
  },
  {
   "cell_type": "markdown",
   "id": "33ec2f0d",
   "metadata": {},
   "source": [
    "Por motivos de capacidad de máquina, se ha corrido el codigo solo con 8 elecciones. Sin embargo, dado que ahora está comentado, se espera que corra completo"
   ]
  },
  {
   "cell_type": "code",
   "execution_count": null,
   "id": "4fc88756",
   "metadata": {},
   "outputs": [],
   "source": [
    " elecciones = ['PRESIDENCIAL 2021 - 2DA VUELTA',\n",
    " 'PRESIDENCIAL 2021',\n",
    " 'PRESIDENCIAL 2016 - 2DA VUELTA',\n",
    " 'PRESIDENCIAL 2016',\n",
    " 'PRESIDENCIAL 2011 - 2DA VUELTA',\n",
    " 'PRESIDENCIAL 2011',\n",
    " 'PRESIDENCIAL 2006 - 2DA VUELTA',\n",
    "'PRESIDENCIAL 2006']\n",
    "\n",
    "lista = []\n",
    "# we open the dropdown list for 'Tipo de eleccion'\n",
    "for eleccion in elecciones:\n",
    "    dropdown_tipo = WebDriverWait(driver, 10).until(\n",
    "        EC.element_to_be_clickable((By.XPATH, '/html/body/div[1]/section/div[2]/div[2]/div[2]/div[1]/div'))\n",
    "    )\n",
    "    dropdown_tipo.click()\n",
    "\n",
    "    # We select the option that contains 'ELECCIONES PRESIDENCIALES'\n",
    "    option_presidencial = WebDriverWait(driver, 10).until(\n",
    "        EC.element_to_be_clickable((By.XPATH, '//div[contains(text(), \"ELECCIONES PRESIDENCIALES\")]'))\n",
    "    )\n",
    "    option_presidencial.click()\n",
    "\n",
    "    time.sleep(2)\n",
    "\n",
    "    # We open the second dropdown and select t\n",
    "    dropdown_eleccion = WebDriverWait(driver, 10).until(\n",
    "        EC.element_to_be_clickable((By.XPATH, '/html/body/div[1]/section/div[2]/div[2]/div[2]/div[2]/div'))\n",
    "    )\n",
    "    dropdown_eleccion.click()\n",
    "    \n",
    "    time.sleep(2)\n",
    "\n",
    "    # We select the option from the second dropdown\n",
    "    option_presidencial21 = WebDriverWait(driver, 10).until(\n",
    "        EC.element_to_be_clickable((By.XPATH, f'//div[normalize-space(text())=\"{eleccion}\"]'))\n",
    "    )\n",
    "    option_presidencial21.click()\n",
    "\n",
    "    time.sleep(2)\n",
    "    # We click the search button\n",
    "\n",
    "    driver.find_element(By.ID,'btnVerDatos').click()\n",
    "    driver.find_element(By.NAME, 'candidatos-y-resultados').click()\n",
    "    time.sleep(2)\n",
    "    table_votes_path = driver.find_element(By.ID, \"gridEleccionResultadosElectorales\")\n",
    "    time.sleep(2)\n",
    "    table_votes_html = table_votes_path.get_attribute('innerHTML')\n",
    "    #save table as html\n",
    "    lista.append(table_votes_html)\n",
    "    \n",
    "    \n",
    "    driver.back()\n",
    "    driver.back()"
   ]
  },
  {
   "cell_type": "code",
   "execution_count": 43,
   "id": "5b8c5c02",
   "metadata": {},
   "outputs": [],
   "source": [
    "cont = 0\n",
    "# lista_2 = []\n",
    "for eleccion,l in zip(elecciones,lista):\n",
    "    new_lista = \"<table>\" + l + \"</table>\" \n",
    "    # new_lista = \"<table><tr><td colspan =6> hola  </td></tr>\" + l + \"</table>\"\n",
    "    lista_votes = pd.read_html(new_lista)\n",
    "    lista_final = lista_votes[0].iloc[ :, [0,3]]\n",
    "    lista_final.insert(0, 'Elecciones', f'{eleccion}')\n",
    "    #cabecera = f\"----” + {elecciones[cont]}  + “----/\"\n",
    "    #lista_2.append(cabecera)\n",
    "    #lista_2.append(lista_final)\n",
    "    print(lista_final)"
   ]
  }
 ],
 "metadata": {
  "kernelspec": {
   "display_name": "Python 3 (ipykernel)",
   "language": "python",
   "name": "python3"
  },
  "language_info": {
   "codemirror_mode": {
    "name": "ipython",
    "version": 3
   },
   "file_extension": ".py",
   "mimetype": "text/x-python",
   "name": "python",
   "nbconvert_exporter": "python",
   "pygments_lexer": "ipython3",
   "version": "3.9.13"
  }
 },
 "nbformat": 4,
 "nbformat_minor": 5
}
