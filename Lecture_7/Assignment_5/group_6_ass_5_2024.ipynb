{
 "cells": [
  {
   "cell_type": "code",
   "execution_count": 1,
   "id": "1a92fa1c",
   "metadata": {},
   "outputs": [
    {
     "name": "stdout",
     "output_type": "stream",
     "text": [
      "Requirement already satisfied: selenium in /Users/alondracajas/anaconda3/lib/python3.11/site-packages (4.16.0)\n",
      "Requirement already satisfied: urllib3[socks]<3,>=1.26 in /Users/alondracajas/anaconda3/lib/python3.11/site-packages (from selenium) (1.26.16)\n",
      "Requirement already satisfied: trio~=0.17 in /Users/alondracajas/anaconda3/lib/python3.11/site-packages (from selenium) (0.24.0)\n",
      "Requirement already satisfied: trio-websocket~=0.9 in /Users/alondracajas/anaconda3/lib/python3.11/site-packages (from selenium) (0.11.1)\n",
      "Requirement already satisfied: certifi>=2021.10.8 in /Users/alondracajas/anaconda3/lib/python3.11/site-packages (from selenium) (2023.11.17)\n",
      "Requirement already satisfied: attrs>=20.1.0 in /Users/alondracajas/anaconda3/lib/python3.11/site-packages (from trio~=0.17->selenium) (22.1.0)\n",
      "Requirement already satisfied: sortedcontainers in /Users/alondracajas/anaconda3/lib/python3.11/site-packages (from trio~=0.17->selenium) (2.4.0)\n",
      "Requirement already satisfied: idna in /Users/alondracajas/anaconda3/lib/python3.11/site-packages (from trio~=0.17->selenium) (3.4)\n",
      "Requirement already satisfied: outcome in /Users/alondracajas/anaconda3/lib/python3.11/site-packages (from trio~=0.17->selenium) (1.3.0.post0)\n",
      "Requirement already satisfied: sniffio>=1.3.0 in /Users/alondracajas/anaconda3/lib/python3.11/site-packages (from trio~=0.17->selenium) (1.3.0)\n",
      "Requirement already satisfied: wsproto>=0.14 in /Users/alondracajas/anaconda3/lib/python3.11/site-packages (from trio-websocket~=0.9->selenium) (1.2.0)\n",
      "Requirement already satisfied: PySocks!=1.5.7,<2.0,>=1.5.6 in /Users/alondracajas/anaconda3/lib/python3.11/site-packages (from urllib3[socks]<3,>=1.26->selenium) (1.7.1)\n",
      "Requirement already satisfied: h11<1,>=0.9.0 in /Users/alondracajas/anaconda3/lib/python3.11/site-packages (from wsproto>=0.14->trio-websocket~=0.9->selenium) (0.14.0)\n",
      "Requirement already satisfied: webdriver-manager in /Users/alondracajas/anaconda3/lib/python3.11/site-packages (4.0.1)\n",
      "Requirement already satisfied: requests in /Users/alondracajas/anaconda3/lib/python3.11/site-packages (from webdriver-manager) (2.31.0)\n",
      "Requirement already satisfied: python-dotenv in /Users/alondracajas/anaconda3/lib/python3.11/site-packages (from webdriver-manager) (0.21.0)\n",
      "Requirement already satisfied: packaging in /Users/alondracajas/anaconda3/lib/python3.11/site-packages (from webdriver-manager) (23.1)\n",
      "Requirement already satisfied: charset-normalizer<4,>=2 in /Users/alondracajas/anaconda3/lib/python3.11/site-packages (from requests->webdriver-manager) (2.0.4)\n",
      "Requirement already satisfied: idna<4,>=2.5 in /Users/alondracajas/anaconda3/lib/python3.11/site-packages (from requests->webdriver-manager) (3.4)\n",
      "Requirement already satisfied: urllib3<3,>=1.21.1 in /Users/alondracajas/anaconda3/lib/python3.11/site-packages (from requests->webdriver-manager) (1.26.16)\n",
      "Requirement already satisfied: certifi>=2017.4.17 in /Users/alondracajas/anaconda3/lib/python3.11/site-packages (from requests->webdriver-manager) (2023.11.17)\n"
     ]
    }
   ],
   "source": [
    "!pip install selenium\n",
    "!pip install webdriver-manager"
   ]
  },
  {
   "cell_type": "code",
   "execution_count": 2,
   "id": "e1b4a5e5",
   "metadata": {},
   "outputs": [],
   "source": [
    "import pandas as pd"
   ]
  },
  {
   "cell_type": "code",
   "execution_count": 3,
   "id": "b1c18879",
   "metadata": {},
   "outputs": [],
   "source": [
    "from selenium import webdriver\n",
    "from webdriver_manager.chrome import ChromeDriverManager\n",
    "import re\n",
    "import time \n",
    "from selenium.webdriver.common.by import By"
   ]
  },
  {
   "cell_type": "code",
   "execution_count": 4,
   "id": "64540e46",
   "metadata": {},
   "outputs": [
    {
     "data": {
      "text/plain": [
       "'/Users/alondracajas/Documents/GitHub/Diplomado_PUCP/Lecture_7/Assignment_5'"
      ]
     },
     "execution_count": 4,
     "metadata": {},
     "output_type": "execute_result"
    }
   ],
   "source": [
    "pwd"
   ]
  },
  {
   "cell_type": "code",
   "execution_count": 5,
   "id": "c2be2864",
   "metadata": {},
   "outputs": [],
   "source": [
    "from selenium.webdriver.chrome.options import Options\n",
    "\n",
    "options = Options()\n",
    "driver = webdriver.Chrome(options=options)"
   ]
  },
  {
   "cell_type": "code",
   "execution_count": 6,
   "id": "bc46586f",
   "metadata": {},
   "outputs": [
    {
     "name": "stdout",
     "output_type": "stream",
     "text": [
      "Requirement already satisfied: selenium in /Users/alondracajas/anaconda3/lib/python3.11/site-packages (4.16.0)\n",
      "Requirement already satisfied: urllib3[socks]<3,>=1.26 in /Users/alondracajas/anaconda3/lib/python3.11/site-packages (from selenium) (1.26.16)\n",
      "Requirement already satisfied: trio~=0.17 in /Users/alondracajas/anaconda3/lib/python3.11/site-packages (from selenium) (0.24.0)\n",
      "Requirement already satisfied: trio-websocket~=0.9 in /Users/alondracajas/anaconda3/lib/python3.11/site-packages (from selenium) (0.11.1)\n",
      "Requirement already satisfied: certifi>=2021.10.8 in /Users/alondracajas/anaconda3/lib/python3.11/site-packages (from selenium) (2023.11.17)\n",
      "Requirement already satisfied: attrs>=20.1.0 in /Users/alondracajas/anaconda3/lib/python3.11/site-packages (from trio~=0.17->selenium) (22.1.0)\n",
      "Requirement already satisfied: sortedcontainers in /Users/alondracajas/anaconda3/lib/python3.11/site-packages (from trio~=0.17->selenium) (2.4.0)\n",
      "Requirement already satisfied: idna in /Users/alondracajas/anaconda3/lib/python3.11/site-packages (from trio~=0.17->selenium) (3.4)\n",
      "Requirement already satisfied: outcome in /Users/alondracajas/anaconda3/lib/python3.11/site-packages (from trio~=0.17->selenium) (1.3.0.post0)\n",
      "Requirement already satisfied: sniffio>=1.3.0 in /Users/alondracajas/anaconda3/lib/python3.11/site-packages (from trio~=0.17->selenium) (1.3.0)\n",
      "Requirement already satisfied: wsproto>=0.14 in /Users/alondracajas/anaconda3/lib/python3.11/site-packages (from trio-websocket~=0.9->selenium) (1.2.0)\n",
      "Requirement already satisfied: PySocks!=1.5.7,<2.0,>=1.5.6 in /Users/alondracajas/anaconda3/lib/python3.11/site-packages (from urllib3[socks]<3,>=1.26->selenium) (1.7.1)\n",
      "Requirement already satisfied: h11<1,>=0.9.0 in /Users/alondracajas/anaconda3/lib/python3.11/site-packages (from wsproto>=0.14->trio-websocket~=0.9->selenium) (0.14.0)\n",
      "Note: you may need to restart the kernel to use updated packages.\n"
     ]
    }
   ],
   "source": [
    "pip install --upgrade selenium"
   ]
  },
  {
   "cell_type": "code",
   "execution_count": 12,
   "id": "61960766",
   "metadata": {},
   "outputs": [],
   "source": [
    "from selenium import webdriver\n",
    "from selenium.webdriver.chrome.options import Options\n",
    "\n",
    "options = Options()\n",
    "driver = webdriver.Chrome(options=options)\n",
    "driver.maximize_window()\n",
    "\n",
    "url = 'https://infogob.jne.gob.pe/Eleccion'\n",
    "driver.get( url )"
   ]
  },
  {
   "cell_type": "code",
   "execution_count": 13,
   "id": "f5f01b26",
   "metadata": {},
   "outputs": [],
   "source": [
    "from selenium.webdriver.common.by import By"
   ]
  },
  {
   "cell_type": "code",
   "execution_count": 14,
   "id": "13c39a36",
   "metadata": {},
   "outputs": [],
   "source": [
    "#Click al desglose de \"tipo de proceso\"\n",
    "driver.find_element( By.XPATH , '/html/body/div[1]/section/div[2]/div[2]/div[2]/div[1]/div/i').click()\n",
    "\n",
    "#Click a \"elecciones presidenciales\"\n",
    "driver.find_element( By.XPATH , '/html/body/div[1]/section/div[2]/div[2]/div[2]/div[1]/div/div[2]/div[2]').click()"
   ]
  },
  {
   "cell_type": "code",
   "execution_count": 15,
   "id": "889ce757",
   "metadata": {},
   "outputs": [],
   "source": [
    "#Click al desglose de \"elección\"\n",
    "driver.find_element( By.XPATH , '/html/body/div[1]/section/div[2]/div[2]/div[2]/div[2]/div/i').click()"
   ]
  },
  {
   "cell_type": "code",
   "execution_count": 16,
   "id": "67615ce4",
   "metadata": {},
   "outputs": [],
   "source": [
    "#Ejemplo para PRESIDENCIAL 2021 - 2DA VUELTA\n",
    "driver.find_element( By.XPATH , '/html/body/div[1]/section/div[2]/div[2]/div[2]/div[2]/div/div[2]/div[2]').click()"
   ]
  },
  {
   "cell_type": "code",
   "execution_count": 17,
   "id": "535ede64",
   "metadata": {},
   "outputs": [],
   "source": [
    "#Ir a ver datos de la elección\n",
    "driver.find_element( By.XPATH , '/html/body/div[1]/section/div[2]/div[2]/div[3]/div/button/span').click()\n",
    "# Ir al cuadro de Candidatos y resultados\n",
    "driver.find_element( By.XPATH , '/html/body/div[1]/section/div[2]/div[3]/div[1]/ul/li[2]/a').click()"
   ]
  },
  {
   "cell_type": "code",
   "execution_count": 18,
   "id": "e8e633c4",
   "metadata": {},
   "outputs": [],
   "source": [
    "table_path = driver.find_element (By.XPATH , '/html/body/div[1]/section/div[2]/div[3]/div[3]/div/div/div/div[1]/div[2]')"
   ]
  },
  {
   "cell_type": "code",
   "execution_count": 19,
   "id": "e4d7a845",
   "metadata": {},
   "outputs": [],
   "source": [
    "table_html = table_path.get_attribute('innerHTML')"
   ]
  },
  {
   "cell_type": "code",
   "execution_count": 20,
   "id": "74e7ef9c",
   "metadata": {},
   "outputs": [
    {
     "data": {
      "text/html": [
       "<div>\n",
       "<style scoped>\n",
       "    .dataframe tbody tr th:only-of-type {\n",
       "        vertical-align: middle;\n",
       "    }\n",
       "\n",
       "    .dataframe tbody tr th {\n",
       "        vertical-align: top;\n",
       "    }\n",
       "\n",
       "    .dataframe thead th {\n",
       "        text-align: right;\n",
       "    }\n",
       "</style>\n",
       "<table border=\"1\" class=\"dataframe\">\n",
       "  <thead>\n",
       "    <tr style=\"text-align: right;\">\n",
       "      <th></th>\n",
       "      <th>ORGANIZACIÓN POLÍTICA</th>\n",
       "      <th>SÍMBOLO</th>\n",
       "      <th>PLAN DE GOBIERNO</th>\n",
       "      <th>TOTAL VOTOS</th>\n",
       "      <th>PORCENTAJE DE VOTOS VÁLIDOS</th>\n",
       "      <th>LISTA DE CANDIDATOS</th>\n",
       "    </tr>\n",
       "  </thead>\n",
       "  <tbody>\n",
       "    <tr>\n",
       "      <th>0</th>\n",
       "      <td>PARTIDO POLITICO NACIONAL PERU LIBRE</td>\n",
       "      <td>NaN</td>\n",
       "      <td>NaN</td>\n",
       "      <td>8836380</td>\n",
       "      <td>50.126%</td>\n",
       "      <td>VER LISTA</td>\n",
       "    </tr>\n",
       "    <tr>\n",
       "      <th>1</th>\n",
       "      <td>FUERZA POPULAR</td>\n",
       "      <td>NaN</td>\n",
       "      <td>NaN</td>\n",
       "      <td>8792117</td>\n",
       "      <td>49.874%</td>\n",
       "      <td>VER LISTA</td>\n",
       "    </tr>\n",
       "    <tr>\n",
       "      <th>2</th>\n",
       "      <td>VOTOS EN BLANCO</td>\n",
       "      <td>NaN</td>\n",
       "      <td>NaN</td>\n",
       "      <td>121489</td>\n",
       "      <td>NaN</td>\n",
       "      <td>NaN</td>\n",
       "    </tr>\n",
       "    <tr>\n",
       "      <th>3</th>\n",
       "      <td>VOTOS NULOS</td>\n",
       "      <td>NaN</td>\n",
       "      <td>NaN</td>\n",
       "      <td>1106816</td>\n",
       "      <td>NaN</td>\n",
       "      <td>NaN</td>\n",
       "    </tr>\n",
       "  </tbody>\n",
       "</table>\n",
       "</div>"
      ],
      "text/plain": [
       "                  ORGANIZACIÓN POLÍTICA  SÍMBOLO  PLAN DE GOBIERNO  \\\n",
       "0  PARTIDO POLITICO NACIONAL PERU LIBRE      NaN               NaN   \n",
       "1                        FUERZA POPULAR      NaN               NaN   \n",
       "2                       VOTOS EN BLANCO      NaN               NaN   \n",
       "3                           VOTOS NULOS      NaN               NaN   \n",
       "\n",
       "   TOTAL VOTOS PORCENTAJE DE VOTOS VÁLIDOS LISTA DE CANDIDATOS  \n",
       "0      8836380                     50.126%           VER LISTA  \n",
       "1      8792117                     49.874%           VER LISTA  \n",
       "2       121489                         NaN                 NaN  \n",
       "3      1106816                         NaN                 NaN  "
      ]
     },
     "execution_count": 20,
     "metadata": {},
     "output_type": "execute_result"
    }
   ],
   "source": [
    "table = pd.read_html(table_html, flavor='lxml')\n",
    "table[0]"
   ]
  },
  {
   "cell_type": "code",
   "execution_count": 21,
   "id": "4714e42e",
   "metadata": {},
   "outputs": [
    {
     "name": "stderr",
     "output_type": "stream",
     "text": [
      "/var/folders/rb/f0hs9z3x3qs022rbhv3xf4gh0000gp/T/ipykernel_65813/2021084690.py:12: SettingWithCopyWarning: \n",
      "A value is trying to be set on a copy of a slice from a DataFrame.\n",
      "Try using .loc[row_indexer,col_indexer] = value instead\n",
      "\n",
      "See the caveats in the documentation: https://pandas.pydata.org/pandas-docs/stable/user_guide/indexing.html#returning-a-view-versus-a-copy\n",
      "  nuevo_df['Elecciones'] = nombre_eleccion\n"
     ]
    },
    {
     "data": {
      "text/html": [
       "<div>\n",
       "<style scoped>\n",
       "    .dataframe tbody tr th:only-of-type {\n",
       "        vertical-align: middle;\n",
       "    }\n",
       "\n",
       "    .dataframe tbody tr th {\n",
       "        vertical-align: top;\n",
       "    }\n",
       "\n",
       "    .dataframe thead th {\n",
       "        text-align: right;\n",
       "    }\n",
       "</style>\n",
       "<table border=\"1\" class=\"dataframe\">\n",
       "  <thead>\n",
       "    <tr style=\"text-align: right;\">\n",
       "      <th></th>\n",
       "      <th>Elecciones</th>\n",
       "      <th>ORGANIZACIÓN POLÍTICA</th>\n",
       "      <th>TOTAL VOTOS</th>\n",
       "    </tr>\n",
       "  </thead>\n",
       "  <tbody>\n",
       "    <tr>\n",
       "      <th>0</th>\n",
       "      <td>SEGUNDA VUELTA DE ELECCIÓN PRESIDENCIAL 2021 ...</td>\n",
       "      <td>PARTIDO POLITICO NACIONAL PERU LIBRE</td>\n",
       "      <td>8836380</td>\n",
       "    </tr>\n",
       "    <tr>\n",
       "      <th>1</th>\n",
       "      <td>SEGUNDA VUELTA DE ELECCIÓN PRESIDENCIAL 2021 ...</td>\n",
       "      <td>FUERZA POPULAR</td>\n",
       "      <td>8792117</td>\n",
       "    </tr>\n",
       "    <tr>\n",
       "      <th>2</th>\n",
       "      <td>SEGUNDA VUELTA DE ELECCIÓN PRESIDENCIAL 2021 ...</td>\n",
       "      <td>VOTOS EN BLANCO</td>\n",
       "      <td>121489</td>\n",
       "    </tr>\n",
       "    <tr>\n",
       "      <th>3</th>\n",
       "      <td>SEGUNDA VUELTA DE ELECCIÓN PRESIDENCIAL 2021 ...</td>\n",
       "      <td>VOTOS NULOS</td>\n",
       "      <td>1106816</td>\n",
       "    </tr>\n",
       "  </tbody>\n",
       "</table>\n",
       "</div>"
      ],
      "text/plain": [
       "                                          Elecciones  \\\n",
       "0   SEGUNDA VUELTA DE ELECCIÓN PRESIDENCIAL 2021 ...   \n",
       "1   SEGUNDA VUELTA DE ELECCIÓN PRESIDENCIAL 2021 ...   \n",
       "2   SEGUNDA VUELTA DE ELECCIÓN PRESIDENCIAL 2021 ...   \n",
       "3   SEGUNDA VUELTA DE ELECCIÓN PRESIDENCIAL 2021 ...   \n",
       "\n",
       "                  ORGANIZACIÓN POLÍTICA  TOTAL VOTOS  \n",
       "0  PARTIDO POLITICO NACIONAL PERU LIBRE      8836380  \n",
       "1                        FUERZA POPULAR      8792117  \n",
       "2                       VOTOS EN BLANCO       121489  \n",
       "3                           VOTOS NULOS      1106816  "
      ]
     },
     "metadata": {},
     "output_type": "display_data"
    }
   ],
   "source": [
    "#Modificar la tabla\n",
    "\n",
    "# Obtener el DataFrame desde la lista\n",
    "df = table[0]\n",
    "\n",
    "# Seleccionar solo las dos columnas\n",
    "nuevo_df = df[['ORGANIZACIÓN POLÍTICA', 'TOTAL VOTOS']]\n",
    "\n",
    "#Creamos columna con el nombre de la elección\n",
    "searchBox = driver.find_element( By.XPATH, '/html/body/div[1]/section/div[2]/div[1]/h3')\n",
    "nombre_eleccion = searchBox.text\n",
    "nuevo_df['Elecciones'] = nombre_eleccion\n",
    "\n",
    "#Ordenamos columnas\n",
    "orden = ['Elecciones', 'ORGANIZACIÓN POLÍTICA', 'TOTAL VOTOS']\n",
    "nuevo_df2 = nuevo_df[orden]\n",
    "\n",
    "#Tabla\n",
    "display(nuevo_df2)"
   ]
  },
  {
   "cell_type": "code",
   "execution_count": 22,
   "id": "674978f7",
   "metadata": {},
   "outputs": [
    {
     "name": "stdout",
     "output_type": "stream",
     "text": [
      "DataFrame exportado a /Users/alondracajas/Documents/Diplomado PUCP/Python/Assignment 5/elecciones.xlsx\n"
     ]
    }
   ],
   "source": [
    "ruta_archivo = '/Users/alondracajas/Documents/Diplomado PUCP/Python/Assignment 5/elecciones.xlsx'\n",
    "\n",
    "# Exportar el DataFrame a un archivo Excel\n",
    "nuevo_df2.to_excel(ruta_archivo, index=False)\n",
    "\n",
    "print(f\"DataFrame exportado a {ruta_archivo}\")"
   ]
  }
 ],
 "metadata": {
  "kernelspec": {
   "display_name": "Python 3 (ipykernel)",
   "language": "python",
   "name": "python3"
  },
  "language_info": {
   "codemirror_mode": {
    "name": "ipython",
    "version": 3
   },
   "file_extension": ".py",
   "mimetype": "text/x-python",
   "name": "python",
   "nbconvert_exporter": "python",
   "pygments_lexer": "ipython3",
   "version": "3.11.5"
  }
 },
 "nbformat": 4,
 "nbformat_minor": 5
}
