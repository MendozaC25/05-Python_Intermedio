{
 "cells": [
  {
   "cell_type": "markdown",
   "metadata": {},
   "source": [
    "# Assigment 7 - Issue [#979](https://github.com/alexanderquispe/Diplomado_PUCP/issues/979)\n",
    "**Deadline: September 7th - 23:59**\n",
    "\n",
    "Fernando Mendoza | Andrea Pezo | Michel Cotrina | Estefanny Gil | Armando Ore\n",
    "\n",
    "\n",
    "1. Import the data located at [this link](https://github.com/alexanderquispe/Diplomado_PUCP/blob/main/_data/data_dengue_peru.csv). It has information on people infected with dengue at the district level for 2015 to 2021.\n",
    "\n",
    "2. Generate ubigeo for Departments and Provinces taking the first two and four numbers. Hint: [Use this code](https://stackoverflow.com/questions/35552874/get-first-letter-of-a-string-from-column).\n",
    "\n",
    "3. Use geopandas to plot the number of cases in 2021 by the district using a continuous legend. Do not forget to indicate the color of NA values. Use this [shapefile](https://github.com/alexanderquispe/Diplomado_PUCP/tree/main/_data/LIMITE_DISTRITAL_2020_INEI).\n",
    "\n",
    "4. Use geopandas to plot the number of cases in 2021 by the province using a continuous legend. Do not forget to indicate the color of NA values. Use this [shapefile](https://github.com/alexanderquispe/Diplomado_PUCP/tree/main/_data/LIMITE_DISTRITAL_2020_INEI). For this task, you will have to aggregate shapefiles at the province level.\n",
    "\n",
    "5. Use geopandas to plot the number of cases by the department for all the years using subplots. --Every subplot for each year. Do not forget to indicate the color of NA values. Use this [shapefile](https://github.com/alexanderquispe/Diplomado_PUCP/tree/main/_data/LIMITE_DISTRITAL_2020_INEI). For this task, you will have to aggregate shapefiles at the department level.\n",
    "\n",
    "6. Use geopandas to plot the number of cases by the department for all 2021 quarters using subplots. Every subplot for each quarter. Use a categorical legend with 5 bins. Do not forget to indicate the color of NA values. Use this [shapefile](https://github.com/alexanderquispe/Diplomado_PUCP/tree/main/_data/LIMITE_DISTRITAL_2020_INEI). For this task, you will have to aggregate shapefiles at the department level. Hint: Use Semana variable to group by quarters.\n"
   ]
  },
  {
   "cell_type": "markdown",
   "metadata": {},
   "source": [
    "## Step 0. Libraries"
   ]
  },
  {
   "cell_type": "code",
   "execution_count": 19,
   "metadata": {},
   "outputs": [],
   "source": [
    "import matplotlib.pyplot as plt \n",
    "\n",
    "import numpy as np\n",
    "import pandas as pd\n",
    "import geopandas as gpd"
   ]
  },
  {
   "cell_type": "markdown",
   "metadata": {},
   "source": [
    "## Step 1. Load data"
   ]
  },
  {
   "cell_type": "code",
   "execution_count": 42,
   "metadata": {},
   "outputs": [
    {
     "data": {
      "text/plain": [
       "'C:\\\\Users\\\\LENOVO\\\\Desktop\\\\Github\\\\Diplomado_PUCP\\\\Lecture_9\\\\Assignment_7'"
      ]
     },
     "execution_count": 42,
     "metadata": {},
     "output_type": "execute_result"
    }
   ],
   "source": [
    "pwd"
   ]
  },
  {
   "cell_type": "code",
   "execution_count": 37,
   "metadata": {
    "scrolled": true
   },
   "outputs": [
    {
     "name": "stderr",
     "output_type": "stream",
     "text": [
      "C:\\Users\\LENOVO\\AppData\\Local\\Temp\\ipykernel_22800\\3197152516.py:1: DtypeWarning: Columns (7) have mixed types. Specify dtype option on import or set low_memory=False.\n",
      "  dengue = pd.read_csv( r\"../../_data/data_dengue_peru.csv\" )\n"
     ]
    },
    {
     "data": {
      "text/html": [
       "<div>\n",
       "<style scoped>\n",
       "    .dataframe tbody tr th:only-of-type {\n",
       "        vertical-align: middle;\n",
       "    }\n",
       "\n",
       "    .dataframe tbody tr th {\n",
       "        vertical-align: top;\n",
       "    }\n",
       "\n",
       "    .dataframe thead th {\n",
       "        text-align: right;\n",
       "    }\n",
       "</style>\n",
       "<table border=\"1\" class=\"dataframe\">\n",
       "  <thead>\n",
       "    <tr style=\"text-align: right;\">\n",
       "      <th></th>\n",
       "      <th>Año</th>\n",
       "      <th>Semana</th>\n",
       "      <th>Eventos o daños</th>\n",
       "      <th>Departamento</th>\n",
       "      <th>Distrito</th>\n",
       "      <th>Provincia</th>\n",
       "      <th>Ubigeo</th>\n",
       "      <th>Casos</th>\n",
       "    </tr>\n",
       "  </thead>\n",
       "  <tbody>\n",
       "    <tr>\n",
       "      <th>0</th>\n",
       "      <td>2020</td>\n",
       "      <td>43</td>\n",
       "      <td>Dengue</td>\n",
       "      <td>CUSCO</td>\n",
       "      <td>MEGANTONI</td>\n",
       "      <td>LA CONVENCION</td>\n",
       "      <td>80914</td>\n",
       "      <td>2.0</td>\n",
       "    </tr>\n",
       "    <tr>\n",
       "      <th>1</th>\n",
       "      <td>2021</td>\n",
       "      <td>41</td>\n",
       "      <td>Dengue</td>\n",
       "      <td>MOQUEGUA</td>\n",
       "      <td>MOQUEGUA</td>\n",
       "      <td>MARISCAL NIETO</td>\n",
       "      <td>180101</td>\n",
       "      <td>NaN</td>\n",
       "    </tr>\n",
       "    <tr>\n",
       "      <th>2</th>\n",
       "      <td>2021</td>\n",
       "      <td>42</td>\n",
       "      <td>Dengue</td>\n",
       "      <td>MOQUEGUA</td>\n",
       "      <td>MOQUEGUA</td>\n",
       "      <td>MARISCAL NIETO</td>\n",
       "      <td>180101</td>\n",
       "      <td>NaN</td>\n",
       "    </tr>\n",
       "    <tr>\n",
       "      <th>3</th>\n",
       "      <td>2020</td>\n",
       "      <td>1</td>\n",
       "      <td>Dengue</td>\n",
       "      <td>CUSCO</td>\n",
       "      <td>MEGANTONI</td>\n",
       "      <td>LA CONVENCION</td>\n",
       "      <td>80914</td>\n",
       "      <td>0.0</td>\n",
       "    </tr>\n",
       "    <tr>\n",
       "      <th>4</th>\n",
       "      <td>2020</td>\n",
       "      <td>53</td>\n",
       "      <td>Dengue</td>\n",
       "      <td>CUSCO</td>\n",
       "      <td>MEGANTONI</td>\n",
       "      <td>LA CONVENCION</td>\n",
       "      <td>80914</td>\n",
       "      <td>2.0</td>\n",
       "    </tr>\n",
       "  </tbody>\n",
       "</table>\n",
       "</div>"
      ],
      "text/plain": [
       "    Año  Semana Eventos o daños Departamento   Distrito       Provincia  \\\n",
       "0  2020      43          Dengue        CUSCO  MEGANTONI   LA CONVENCION   \n",
       "1  2021      41          Dengue     MOQUEGUA   MOQUEGUA  MARISCAL NIETO   \n",
       "2  2021      42          Dengue     MOQUEGUA   MOQUEGUA  MARISCAL NIETO   \n",
       "3  2020       1          Dengue        CUSCO  MEGANTONI   LA CONVENCION   \n",
       "4  2020      53          Dengue        CUSCO  MEGANTONI   LA CONVENCION   \n",
       "\n",
       "   Ubigeo Casos  \n",
       "0   80914   2.0  \n",
       "1  180101   NaN  \n",
       "2  180101   NaN  \n",
       "3   80914   0.0  \n",
       "4   80914   2.0  "
      ]
     },
     "execution_count": 37,
     "metadata": {},
     "output_type": "execute_result"
    }
   ],
   "source": [
    "dengue = pd.read_csv( r\"../../_data/data_dengue_peru.csv\" )\n",
    "dengue.head()"
   ]
  }
 ],
 "metadata": {
  "hide_input": false,
  "kernelspec": {
   "display_name": "Python 3 (ipykernel)",
   "language": "python",
   "name": "python3"
  },
  "language_info": {
   "codemirror_mode": {
    "name": "ipython",
    "version": 3
   },
   "file_extension": ".py",
   "mimetype": "text/x-python",
   "name": "python",
   "nbconvert_exporter": "python",
   "pygments_lexer": "ipython3",
   "version": "3.11.5"
  },
  "toc": {
   "base_numbering": 1,
   "nav_menu": {},
   "number_sections": true,
   "sideBar": true,
   "skip_h1_title": false,
   "title_cell": "Table of Contents",
   "title_sidebar": "Contents",
   "toc_cell": false,
   "toc_position": {},
   "toc_section_display": true,
   "toc_window_display": false
  }
 },
 "nbformat": 4,
 "nbformat_minor": 4
}
